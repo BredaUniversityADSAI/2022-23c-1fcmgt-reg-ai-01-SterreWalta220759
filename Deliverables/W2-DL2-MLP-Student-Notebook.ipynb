{
 "cells": [
  {
   "cell_type": "code",
   "execution_count": 1,
   "metadata": {},
   "outputs": [],
   "source": [
    "import pandas as pd\n",
    "import numpy as np\n",
    "import matplotlib.pyplot as plt"
   ]
  },
  {
   "cell_type": "markdown",
   "metadata": {},
   "source": [
    "In this DataLab, you will revisit one of the MLP models you developed in the previous DataLab and dive deeper."
   ]
  },
  {
   "cell_type": "code",
   "execution_count": 2,
   "metadata": {},
   "outputs": [],
   "source": [
    "from keras.datasets import mnist\n",
    "(X_train, y_train), (X_test, y_test) = mnist.load_data()"
   ]
  },
  {
   "cell_type": "code",
   "execution_count": 3,
   "metadata": {},
   "outputs": [
    {
     "name": "stdout",
     "output_type": "stream",
     "text": [
      "7\n"
     ]
    },
    {
     "data": {
      "image/png": "[encoded data removed]",
      "text/plain": [
       "<Figure size 640x480 with 1 Axes>"
      ]
     },
     "metadata": {},
     "output_type": "display_data"
    }
   ],
   "source": [
    "#random image\n",
    "index = np.random.randint(0, 60000)\n",
    "plt.imshow(X_train[index])\n",
    "print(y_train[index])"
   ]
  },
  {
   "cell_type": "code",
   "execution_count": 4,
   "metadata": {},
   "outputs": [
    {
     "data": {
      "text/plain": [
       "((60000, 28, 28), (10000, 28, 28), (60000,), (10000,))"
      ]
     },
     "execution_count": 4,
     "metadata": {},
     "output_type": "execute_result"
    }
   ],
   "source": [
    "X_train.shape, X_test.shape, y_train.shape, y_test.shape"
   ]
  },
  {
   "cell_type": "markdown",
   "metadata": {},
   "source": [
    "## Task 1: Learning curves"
   ]
  },
  {
   "cell_type": "markdown",
   "metadata": {},
   "source": [
    "**Task 1.1**\n",
    "\n",
    "Adjust the shapes of X_train, X_test, y_train, y_test to be compatible with the network below.\n",
    "\n",
    "<img src=https://i.imgur.com/OFNAslJ.png width=\"500\">"
   ]
  },
  {
   "cell_type": "code",
   "execution_count": 5,
   "metadata": {},
   "outputs": [],
   "source": [
    "X_train = X_train.reshape(60000, 784)\n",
    "X_train = X_train.astype('float32') / 255\n",
    "X_test = X_test.reshape(10000, 784)\n",
    "X_test = X_test.astype('float32') / 255"
   ]
  },
  {
   "cell_type": "markdown",
   "metadata": {},
   "source": [
    "**Task 1.2**\n",
    "\n",
    "Build the model. But this time, create a function for this task because you will have to repeat it a few times today."
   ]
  },
  {
   "cell_type": "code",
   "execution_count": 6,
   "metadata": {},
   "outputs": [
    {
     "name": "stdout",
     "output_type": "stream",
     "text": [
      "Model: \"sequential\"\n",
      "_________________________________________________________________\n",
      " Layer (type)                Output Shape              Param #   \n",
      "=================================================================\n",
      " dense (Dense)               (None, 30)                23550     \n",
      "                                                                 \n",
      " dense_1 (Dense)             (None, 30)                930       \n",
      "                                                                 \n",
      " dense_2 (Dense)             (None, 10)                310       \n",
      "                                                                 \n",
      "=================================================================\n",
      "Total params: 24,790\n",
      "Trainable params: 24,790\n",
      "Non-trainable params: 0\n",
      "_________________________________________________________________\n"
     ]
    }
   ],
   "source": [
    "from keras.models import Sequential\n",
    "from keras.layers import Dense\n",
    "\n",
    "def build_model(print_summary=False):\n",
    "    model = Sequential()\n",
    "    # YOUR CODE HERE #\n",
    "    model.add(Dense(30, input_shape=(784,), activation='relu'))\n",
    "    model.add(Dense(30, activation='relu'))\n",
    "    model.add(Dense(10, activation='softmax'))    \n",
    "    \n",
    "    # display summary is optional\n",
    "    if print_summary:\n",
    "        model.summary()\n",
    "    return model\n",
    "\n",
    "model = build_model(print_summary=True)"
   ]
  },
  {
   "cell_type": "markdown",
   "metadata": {},
   "source": [
    "**Task 1.3**\n",
    "\n",
    "Compile the model. Similarly, create a function for this task. In this DataLab we will use the Adam optimizer.\n",
    "\n",
    "During compilation, we can define an optimizer as `model.compile(optimizer='adam', ...)`\n",
    "\n",
    "This is a good starting point, but it does not let us configure the optimizer. Most importantly, when we want to change the learning rate. \n",
    "\n",
    "To achieve this, you can do the following:\n",
    "\n",
    "`from keras.optimizers import Adam\n",
    "opt = Adam(lr=0.001)\n",
    "model.compile(optimizer=opt, ...)`\n",
    "\n",
    "now this will let you change the learning rate.\n",
    "\n",
    "Note:\n",
    "\n",
    "If importing `Adam` gives an error try the following instead:\n",
    "\n",
    "`from tensorflow.keras.optimizers import Adam`"
   ]
  },
  {
   "cell_type": "code",
   "execution_count": null,
   "metadata": {},
   "outputs": [],
   "source": [
    "from keras.optimizers import Adam\n",
    "def compile_model(model, lr):\n",
    "    # YOUR CODE HERE #\n",
    "    opt=Adam(lr=lr)\n",
    "    model.compile(optimizer=opt, loss='sparse_categorical_crossentropy', metrics=['accuracy'])\n",
    "    return model\n",
    "\n",
    "model = compile_model(model, lr=0.001)"
   ]
  },
  {
   "cell_type": "markdown",
   "metadata": {},
   "source": [
    "**Task 1.4**\n",
    "\n",
    "Train the model for 5 epochs. This time save the history `H = model.fit(...)`."
   ]
  },
  {
   "cell_type": "code",
   "execution_count": null,
   "metadata": {},
   "outputs": [],
   "source": [
    "H = model.fit(X_train, y_train, validation_data=(X_test, y_test), epochs=10, batch_size=32)"
   ]
  },
  {
   "cell_type": "markdown",
   "metadata": {},
   "source": [
    "**Task 1.5**\n",
    "\n",
    "Evaluate the model using `model.evaluate()`."
   ]
  },
  {
   "cell_type": "code",
   "execution_count": null,
   "metadata": {},
   "outputs": [],
   "source": [
    "val_loss, val_acc = model.evaluate(X_test, y_test)\n",
    "print(val_loss, val_acc)"
   ]
  },
  {
   "cell_type": "markdown",
   "metadata": {},
   "source": [
    "**Task 1.6**\n",
    "\n",
    "Plot the learning curves for `loss` and `val_loss`. Example output:\n",
    "\n",
    "<img src=https://i.imgur.com/74WymKX.png width=\"500\">"
   ]
  },
  {
   "cell_type": "code",
   "execution_count": null,
   "metadata": {},
   "outputs": [],
   "source": [
    "def loss_plotter(H):\n",
    "    plt.plot(H.history['loss'], label='Training Loss')\n",
    "    plt.plot(H.history['val_loss'], label='Validation Loss')\n",
    "    plt.title('Training and Validation Loss')\n",
    "    plt.xlabel('Epoch')\n",
    "    plt.ylabel('Loss')\n",
    "    plt.legend()\n",
    "    plt.show()\n",
    "\n",
    "loss_plotter(H)"
   ]
  },
  {
   "cell_type": "markdown",
   "metadata": {},
   "source": [
    "**Task 1.7**\n",
    "\n",
    "Plot the learning curves for `accuracy` and `val_accuracy`. Example output:\n",
    "\n",
    "<img src=https://i.imgur.com/Md9JIHh.png width=\"500\">"
   ]
  },
  {
   "cell_type": "code",
   "execution_count": null,
   "metadata": {},
   "outputs": [],
   "source": [
    "def accuracy_plotter(H):\n",
    "    plt.plot(H.history['accuracy'], label='Training Accuracy')\n",
    "    plt.plot(H.history['val_accuracy'], label='Validation Accuracy')\n",
    "    plt.title('Training and Validation Accuracy')\n",
    "    plt.xlabel('Epoch')\n",
    "    plt.ylabel('Accuracy')\n",
    "    plt.legend()\n",
    "    plt.show()\n",
    "    \n",
    "accuracy_plotter(H)"
   ]
  },
  {
   "cell_type": "markdown",
   "metadata": {},
   "source": [
    "## Task 2: EarlyStopping"
   ]
  },
  {
   "cell_type": "code",
   "execution_count": null,
   "metadata": {},
   "outputs": [],
   "source": [
    "# Use the functions you created in task 1.\n",
    "model = build_model()\n",
    "model = compile_model(model, lr=0.001)"
   ]
  },
  {
   "cell_type": "markdown",
   "metadata": {},
   "source": [
    "**Task 2.1**\n",
    "\n",
    "Now instead of setting a fixed number of epochs, use `EarlyStopping` callback. Monitor the validation loss with a patience of 2. Remember to restore the best weights."
   ]
  },
  {
   "cell_type": "code",
   "execution_count": null,
   "metadata": {},
   "outputs": [],
   "source": [
    "from keras.callbacks import EarlyStopping\n",
    "earlystop = EarlyStopping(monitor='val_loss', patience=2)"
   ]
  },
  {
   "cell_type": "markdown",
   "metadata": {},
   "source": [
    "**Note:** When using early stopping, you still need to set the number of epochs for training. Let's say you set the epochs to 10, and the model ran for 10 epochs. This means the stopping conditions you set in the callback did not occur therefore the training ran until the end. If the training runs for less than 10 epochs, this means early stopping kicked in."
   ]
  },
  {
   "cell_type": "markdown",
   "metadata": {},
   "source": [
    "**Task 2.2**\n",
    "\n",
    "Train the model with the callback you created in Task 2.1. From now on, always store the history `H = model.fit()`. Set the number of epochs such that you can observe early stopping."
   ]
  },
  {
   "cell_type": "code",
   "execution_count": null,
   "metadata": {},
   "outputs": [],
   "source": [
    "H = model.fit(X_train, y_train, validation_data=(X_test, y_test), epochs=30, batch_size=32, callbacks=[earlystop])"
   ]
  },
  {
   "cell_type": "markdown",
   "metadata": {},
   "source": [
    "**Task 2.3**\n",
    "\n",
    "Plot the learning curves. Interpret your results.\n",
    "\n",
    "- Compare these to the learning curves from Task 1\n",
    "- Did the model train for more than 5 epochs?\n",
    "- Did the performance improve?\n",
    "- Do you think the model is overfitting?"
   ]
  },
  {
   "cell_type": "code",
   "execution_count": null,
   "metadata": {},
   "outputs": [],
   "source": [
    "loss_plotter(H)"
   ]
  },
  {
   "cell_type": "code",
   "execution_count": null,
   "metadata": {},
   "outputs": [],
   "source": [
    "accuracy_plotter(H)"
   ]
  },
  {
   "cell_type": "markdown",
   "metadata": {},
   "source": [
    "## Task 3: Tuning learning rate"
   ]
  },
  {
   "cell_type": "markdown",
   "metadata": {},
   "source": [
    "Train your model with 5 different learning rates."
   ]
  },
  {
   "cell_type": "code",
   "execution_count": null,
   "metadata": {},
   "outputs": [],
   "source": [
    "learning_rates = [1e-2, 1e-3, 1e-4, 1e-5, 1e-6]"
   ]
  },
  {
   "cell_type": "markdown",
   "metadata": {},
   "source": [
    "Use the early stopping callback you created in Task 2. When you are training the models, save each history object. Set the number of epochs to a large enough number such that early stopping occurs in some of the learning rates.\n",
    "\n",
    "**Task 3.1** Plot `val_loss` vs epochs for each learning rate.\n",
    "\n",
    "Example output:\n",
    "\n",
    "<img src=https://i.imgur.com/CPqfa3j.png width=\"500\">\n",
    "\n",
    "closer look:\n",
    "\n",
    "<img src=https://i.imgur.com/BvSZA0s.png width=\"500\">\n"
   ]
  },
  {
   "cell_type": "markdown",
   "metadata": {},
   "source": [
    "These plots show which learning rate(s) are a good choice. But we can plot the best loss vs learning rate to see the relationship even better. \n",
    "\n",
    "**Task 3.2** Plot best validation loss vs learning rate.\n",
    "\n",
    "Example output:\n",
    "\n",
    "<img src=https://i.imgur.com/xSgQbyZ.png width=\"500\">\n",
    "\n",
    "Notice that we can use the validation loss obtained at the end of training (last epoch). But that is not necessarily the best. In fact, we are using early stopping for this reason: when the model is not improving, stop with a patience. If you configured the callback correctly, it returns the best model. \n",
    "- You can use `model.evaluate()` to calculate the best validation loss.\n",
    "- Alternatively, since patience is 2, the 3<sup>rd</sup> validation loss from the last must be the best loss in the history."
   ]
  },
  {
   "cell_type": "code",
   "execution_count": null,
   "metadata": {},
   "outputs": [],
   "source": [
    "histories = [] # for plotting val_loss vs epochs for each learning rate\n",
    "best_val_losses = [] # for plotting best_val_loss vs learning rate\n",
    "\n",
    "for lr in learning_rates:\n",
    "    print('Training with: ', lr)\n",
    "    model = build_model()\n",
    "    model = compile_model(model, lr=lr)\n",
    "    # YOUR CODE HERE #\n",
    "    earlystop = EarlyStopping(monitor='val_loss', patience=2)\n",
    "    \n",
    "    # Train the model with early stopping #\n",
    "    H = model.fit(X_train, y_train, validation_data=(X_test, y_test), epochs=30, batch_size=32, callbacks=[earlystop])\n",
    "    \n",
    "    best_loss = model.evaluate(X_test, y_test)\n",
    "    \n",
    "    best_val_losses.append(best_loss)\n",
    "    histories.append(H)"
   ]
  },
  {
   "cell_type": "code",
   "execution_count": null,
   "metadata": {},
   "outputs": [],
   "source": [
    "# TASK 3.1 #\n",
    "# Plot validation loss vs. epochs for each learning rate #\n",
    "for i, lr in enumerate(learning_rates):\n",
    "    plt.plot(histories[i].history['val_loss'], label='lr:'+str(lr))\n",
    "plt.title('Validation Loss vs. Epochs')\n",
    "plt.xlabel('Epoch')\n",
    "plt.ylabel('Validation Loss')\n",
    "plt.legend()\n",
    "plt.show()"
   ]
  },
  {
   "cell_type": "code",
   "execution_count": null,
   "metadata": {},
   "outputs": [],
   "source": [
    "# TASK 3.2 #\n",
    "# Plot best validation loss vs learning rate # \n",
    "\n",
    "plt.plot(range(len(learning_rates)), best_val_losses, 'o-')\n",
    "plt.xticks(range(len(learning_rates)), learning_rates)\n",
    "plt.title('Best Validation Loss vs. Learning Rate')\n",
    "plt.xlabel('Learning Rate')\n",
    "plt.ylabel('Best Validation Loss')\n",
    "plt.show()"
   ]
  },
  {
   "cell_type": "markdown",
   "metadata": {},
   "source": [
    "## Task 4: Creative Brief\n",
    "\n",
    "Apply what you have learned to your creative brief.\n",
    "\n",
    "- Plot learning curves\n",
    "- Use early stopping\n",
    "- Train your model with different learning rates"
   ]
  },
  {
   "attachments": {},
   "cell_type": "markdown",
   "metadata": {},
   "source": [
    "See creative brief "
   ]
  }
 ],
 "metadata": {
  "kernelspec": {
   "display_name": "Python 3",
   "language": "python",
   "name": "python3"
  },
  "language_info": {
   "codemirror_mode": {
    "name": "ipython",
    "version": 3
   },
   "file_extension": ".py",
   "mimetype": "text/x-python",
   "name": "python",
   "nbconvert_exporter": "python",
   "pygments_lexer": "ipython3",
   "version": "3.9.16"
  }
 },
 "nbformat": 4,
 "nbformat_minor": 2
}
