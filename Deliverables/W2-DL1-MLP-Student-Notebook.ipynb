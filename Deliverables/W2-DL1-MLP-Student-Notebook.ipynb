{
 "cells": [
  {
   "cell_type": "code",
   "execution_count": 1,
   "metadata": {},
   "outputs": [],
   "source": [
    "import pandas as pd\n",
    "import numpy as np\n",
    "import matplotlib.pyplot as plt\n",
    "import tensorflow as tf\n",
    "from tensorflow.keras.models import Sequential\n",
    "from tensorflow.keras.layers import Dense"
   ]
  },
  {
   "cell_type": "markdown",
   "metadata": {},
   "source": [
    "Multilayer perceptron (MLP) is a fully connected, feedforward neural network architecture. It consists of one input layer, one or more hidden layers, and one output layer. Each layer consists of units (also called neurons, or nodes).\n",
    "\n",
    "Each unit is connected to every unit in a neighboring layer, hence fully connected. This is why in Keras these layers are called `Dense`. Information flows from left to right, hence feedforward.\n",
    "\n",
    "<img src=https://i.imgur.com/BMcpMsH.png width=\"800\">"
   ]
  },
  {
   "cell_type": "markdown",
   "metadata": {},
   "source": [
    "**Learning objectives**\n",
    "\n",
    "At the end of this DataLab, you will be able to build MLPs using Keras for the following problem types:\n",
    "\n",
    " - Regression\n",
    " - Binary classification\n",
    " - Multi-class classification\n",
    " - Multi-label classification\n",
    " \n",
    "For each type, you will be given a suitable dataset. Then you will:\n",
    "\n",
    " - Pre-process the data if needed\n",
    " - Create a `Sequential()` model.\n",
    " - Compile the model by defining a loss function, an optimizer and the metrics to be calculated.\n",
    " - Train the model using the `fit()` method.\n",
    " - Test the model using the `predict()` and `evaluate()` methods.\n",
    " \n",
    " \n",
    " **Notebook contents**\n",
    " \n",
    " 1. Regression\n",
    " 2. Binary classification\n",
    " 3. Multi-class classification\n",
    " 4. Multi-label classification\n",
    " 5. Creative brief"
   ]
  },
  {
   "cell_type": "markdown",
   "metadata": {},
   "source": [
    "## 1. Regression"
   ]
  },
  {
   "cell_type": "markdown",
   "metadata": {},
   "source": [
    "**The dataset**\n",
    "\n",
    "In this task, you will use the diabetes dataset provided by `scikit-learn`.\n",
    "\n",
    "Please read the dataset documentation before you start:\n",
    "\n",
    "https://scikit-learn.org/stable/datasets/toy_dataset.html#diabetes-dataset"
   ]
  },
  {
   "cell_type": "code",
   "execution_count": 2,
   "metadata": {},
   "outputs": [
    {
     "data": {
      "text/html": [
       "<div>\n",
       "<style scoped>\n",
       "    .dataframe tbody tr th:only-of-type {\n",
       "        vertical-align: middle;\n",
       "    }\n",
       "\n",
       "    .dataframe tbody tr th {\n",
       "        vertical-align: top;\n",
       "    }\n",
       "\n",
       "    .dataframe thead th {\n",
       "        text-align: right;\n",
       "    }\n",
       "</style>\n",
       "<table border=\"1\" class=\"dataframe\">\n",
       "  <thead>\n",
       "    <tr style=\"text-align: right;\">\n",
       "      <th></th>\n",
       "      <th>age</th>\n",
       "      <th>sex</th>\n",
       "      <th>bmi</th>\n",
       "      <th>bp</th>\n",
       "      <th>s1</th>\n",
       "      <th>s2</th>\n",
       "      <th>s3</th>\n",
       "      <th>s4</th>\n",
       "      <th>s5</th>\n",
       "      <th>s6</th>\n",
       "      <th>disease progression</th>\n",
       "    </tr>\n",
       "  </thead>\n",
       "  <tbody>\n",
       "    <tr>\n",
       "      <th>0</th>\n",
       "      <td>0.038076</td>\n",
       "      <td>0.050680</td>\n",
       "      <td>0.061696</td>\n",
       "      <td>0.021872</td>\n",
       "      <td>-0.044223</td>\n",
       "      <td>-0.034821</td>\n",
       "      <td>-0.043401</td>\n",
       "      <td>-0.002592</td>\n",
       "      <td>0.019908</td>\n",
       "      <td>-0.017646</td>\n",
       "      <td>151.0</td>\n",
       "    </tr>\n",
       "    <tr>\n",
       "      <th>1</th>\n",
       "      <td>-0.001882</td>\n",
       "      <td>-0.044642</td>\n",
       "      <td>-0.051474</td>\n",
       "      <td>-0.026328</td>\n",
       "      <td>-0.008449</td>\n",
       "      <td>-0.019163</td>\n",
       "      <td>0.074412</td>\n",
       "      <td>-0.039493</td>\n",
       "      <td>-0.068330</td>\n",
       "      <td>-0.092204</td>\n",
       "      <td>75.0</td>\n",
       "    </tr>\n",
       "    <tr>\n",
       "      <th>2</th>\n",
       "      <td>0.085299</td>\n",
       "      <td>0.050680</td>\n",
       "      <td>0.044451</td>\n",
       "      <td>-0.005671</td>\n",
       "      <td>-0.045599</td>\n",
       "      <td>-0.034194</td>\n",
       "      <td>-0.032356</td>\n",
       "      <td>-0.002592</td>\n",
       "      <td>0.002864</td>\n",
       "      <td>-0.025930</td>\n",
       "      <td>141.0</td>\n",
       "    </tr>\n",
       "    <tr>\n",
       "      <th>3</th>\n",
       "      <td>-0.089063</td>\n",
       "      <td>-0.044642</td>\n",
       "      <td>-0.011595</td>\n",
       "      <td>-0.036656</td>\n",
       "      <td>0.012191</td>\n",
       "      <td>0.024991</td>\n",
       "      <td>-0.036038</td>\n",
       "      <td>0.034309</td>\n",
       "      <td>0.022692</td>\n",
       "      <td>-0.009362</td>\n",
       "      <td>206.0</td>\n",
       "    </tr>\n",
       "    <tr>\n",
       "      <th>4</th>\n",
       "      <td>0.005383</td>\n",
       "      <td>-0.044642</td>\n",
       "      <td>-0.036385</td>\n",
       "      <td>0.021872</td>\n",
       "      <td>0.003935</td>\n",
       "      <td>0.015596</td>\n",
       "      <td>0.008142</td>\n",
       "      <td>-0.002592</td>\n",
       "      <td>-0.031991</td>\n",
       "      <td>-0.046641</td>\n",
       "      <td>135.0</td>\n",
       "    </tr>\n",
       "  </tbody>\n",
       "</table>\n",
       "</div>"
      ],
      "text/plain": [
       "        age       sex       bmi        bp        s1        s2        s3  \\\n",
       "0  0.038076  0.050680  0.061696  0.021872 -0.044223 -0.034821 -0.043401   \n",
       "1 -0.001882 -0.044642 -0.051474 -0.026328 -0.008449 -0.019163  0.074412   \n",
       "2  0.085299  0.050680  0.044451 -0.005671 -0.045599 -0.034194 -0.032356   \n",
       "3 -0.089063 -0.044642 -0.011595 -0.036656  0.012191  0.024991 -0.036038   \n",
       "4  0.005383 -0.044642 -0.036385  0.021872  0.003935  0.015596  0.008142   \n",
       "\n",
       "         s4        s5        s6  disease progression  \n",
       "0 -0.002592  0.019908 -0.017646                151.0  \n",
       "1 -0.039493 -0.068330 -0.092204                 75.0  \n",
       "2 -0.002592  0.002864 -0.025930                141.0  \n",
       "3  0.034309  0.022692 -0.009362                206.0  \n",
       "4 -0.002592 -0.031991 -0.046641                135.0  "
      ]
     },
     "execution_count": 2,
     "metadata": {},
     "output_type": "execute_result"
    }
   ],
   "source": [
    "from sklearn import datasets\n",
    "diabetes = datasets.load_diabetes()\n",
    "X = diabetes.data\n",
    "y = diabetes.target\n",
    "names = diabetes.feature_names\n",
    "Xy_combined = np.concatenate((X, y[:, np.newaxis]), axis=1)\n",
    "df = pd.DataFrame(Xy_combined,\n",
    "                  columns=names + ['disease progression'])\n",
    "df.head()"
   ]
  },
  {
   "cell_type": "code",
   "execution_count": 3,
   "metadata": {},
   "outputs": [],
   "source": [
    "from sklearn.model_selection import train_test_split\n",
    "X_train, X_test, y_train, y_test = train_test_split(X,\n",
    "                                                    y,\n",
    "                                                    test_size=0.33,\n",
    "                                                    random_state=0)"
   ]
  },
  {
   "cell_type": "code",
   "execution_count": 4,
   "metadata": {},
   "outputs": [
    {
     "data": {
      "text/plain": [
       "((296, 10), (146, 10), (296,), (146,))"
      ]
     },
     "execution_count": 4,
     "metadata": {},
     "output_type": "execute_result"
    }
   ],
   "source": [
    "X_train.shape, X_test.shape, y_train.shape, y_test.shape"
   ]
  },
  {
   "cell_type": "markdown",
   "metadata": {},
   "source": [
    "**Task 1.1**\n",
    "\n",
    "Build an MLP suitable for the diabetes dataset. Use a `Sequential()` model and `Dense` layers from Keras. You are free to pick any number of hidden layers and any number of units per layer as long as it works.  Use suitable activation functions."
   ]
  },
  {
   "cell_type": "code",
   "execution_count": 5,
   "metadata": {},
   "outputs": [],
   "source": [
    "model = Sequential()\n",
    "\n",
    "model.add(Dense(1, input_dim=10, activation='linear'))"
   ]
  },
  {
   "cell_type": "markdown",
   "metadata": {},
   "source": [
    "**Task 1.2**\n",
    "Using `model.compile()`, compile the model. Select a suitable optimizer and a suitable loss function. Also include a metric or metrics."
   ]
  },
  {
   "cell_type": "code",
   "execution_count": 6,
   "metadata": {},
   "outputs": [],
   "source": [
    "model.compile(loss='mean_squared_error', optimizer='sgd')"
   ]
  },
  {
   "cell_type": "markdown",
   "metadata": {},
   "source": [
    "**Task 1.3** Using `model.fit()` Train the model on X_train, y_train and use X_test, y_test as validation data. Pick a suitable number of epochs and batch size."
   ]
  },
  {
   "cell_type": "code",
   "execution_count": 7,
   "metadata": {},
   "outputs": [
    {
     "name": "stdout",
     "output_type": "stream",
     "text": [
      "Epoch 1/100\n",
      "296/296 [==============================] - 1s 1ms/step - loss: 8457.2529\n",
      "Epoch 2/100\n",
      "296/296 [==============================] - 0s 1ms/step - loss: 5971.8477\n",
      "Epoch 3/100\n",
      "296/296 [==============================] - 0s 1ms/step - loss: 5735.1226\n",
      "Epoch 4/100\n",
      "296/296 [==============================] - 0s 1ms/step - loss: 5444.1934\n",
      "Epoch 5/100\n",
      "296/296 [==============================] - 0s 977us/step - loss: 5360.5156\n",
      "Epoch 6/100\n",
      "296/296 [==============================] - 0s 1ms/step - loss: 5143.4302\n",
      "Epoch 7/100\n",
      "296/296 [==============================] - 0s 1ms/step - loss: 4998.3359\n",
      "Epoch 8/100\n",
      "296/296 [==============================] - 0s 1ms/step - loss: 4756.7329\n",
      "Epoch 9/100\n",
      "296/296 [==============================] - 0s 1ms/step - loss: 4746.0674\n",
      "Epoch 10/100\n",
      "296/296 [==============================] - 0s 1ms/step - loss: 4579.7422\n",
      "Epoch 11/100\n",
      "296/296 [==============================] - 0s 1ms/step - loss: 4489.8735\n",
      "Epoch 12/100\n",
      "296/296 [==============================] - 0s 1ms/step - loss: 4404.6270\n",
      "Epoch 13/100\n",
      "296/296 [==============================] - 0s 1ms/step - loss: 4292.7578\n",
      "Epoch 14/100\n",
      "296/296 [==============================] - 0s 1ms/step - loss: 4227.9053\n",
      "Epoch 15/100\n",
      "296/296 [==============================] - 0s 1ms/step - loss: 4126.8184\n",
      "Epoch 16/100\n",
      "296/296 [==============================] - 0s 1ms/step - loss: 4096.3589\n",
      "Epoch 17/100\n",
      "296/296 [==============================] - 0s 1ms/step - loss: 4036.8831\n",
      "Epoch 18/100\n",
      "296/296 [==============================] - 0s 1ms/step - loss: 3977.0562\n",
      "Epoch 19/100\n",
      "296/296 [==============================] - 0s 1ms/step - loss: 3913.4556\n",
      "Epoch 20/100\n",
      "296/296 [==============================] - 0s 1ms/step - loss: 3824.7478\n",
      "Epoch 21/100\n",
      "296/296 [==============================] - 0s 1ms/step - loss: 3747.1973\n",
      "Epoch 22/100\n",
      "296/296 [==============================] - 0s 1ms/step - loss: 3751.8062\n",
      "Epoch 23/100\n",
      "296/296 [==============================] - 0s 1ms/step - loss: 3740.7947\n",
      "Epoch 24/100\n",
      "296/296 [==============================] - 0s 1ms/step - loss: 3713.5718\n",
      "Epoch 25/100\n",
      "296/296 [==============================] - 0s 1ms/step - loss: 3679.7163\n",
      "Epoch 26/100\n",
      "296/296 [==============================] - 0s 1ms/step - loss: 3632.9324\n",
      "Epoch 27/100\n",
      "296/296 [==============================] - 0s 1ms/step - loss: 3606.4976\n",
      "Epoch 28/100\n",
      "296/296 [==============================] - 0s 1ms/step - loss: 3580.3774\n",
      "Epoch 29/100\n",
      "296/296 [==============================] - 0s 1ms/step - loss: 3513.9180\n",
      "Epoch 30/100\n",
      "296/296 [==============================] - 0s 1ms/step - loss: 3539.8616\n",
      "Epoch 31/100\n",
      "296/296 [==============================] - 0s 1ms/step - loss: 3505.4900\n",
      "Epoch 32/100\n",
      "296/296 [==============================] - 0s 1ms/step - loss: 3468.0320\n",
      "Epoch 33/100\n",
      "296/296 [==============================] - 0s 1ms/step - loss: 3453.6526\n",
      "Epoch 34/100\n",
      "296/296 [==============================] - 0s 1ms/step - loss: 3444.5164\n",
      "Epoch 35/100\n",
      "296/296 [==============================] - 0s 1ms/step - loss: 3381.4136\n",
      "Epoch 36/100\n",
      "296/296 [==============================] - 0s 1ms/step - loss: 3382.1509\n",
      "Epoch 37/100\n",
      "296/296 [==============================] - 0s 1ms/step - loss: 3389.8103\n",
      "Epoch 38/100\n",
      "296/296 [==============================] - 0s 1ms/step - loss: 3375.6228\n",
      "Epoch 39/100\n",
      "296/296 [==============================] - 0s 1ms/step - loss: 3355.3850\n",
      "Epoch 40/100\n",
      "296/296 [==============================] - 0s 1ms/step - loss: 3314.6484\n",
      "Epoch 41/100\n",
      "296/296 [==============================] - 0s 1ms/step - loss: 3296.5491\n",
      "Epoch 42/100\n",
      "296/296 [==============================] - 0s 1ms/step - loss: 3272.7874\n",
      "Epoch 43/100\n",
      "296/296 [==============================] - 0s 1ms/step - loss: 3299.0562\n",
      "Epoch 44/100\n",
      "296/296 [==============================] - 0s 1ms/step - loss: 3256.8071\n",
      "Epoch 45/100\n",
      "296/296 [==============================] - 0s 1ms/step - loss: 3262.3843\n",
      "Epoch 46/100\n",
      "296/296 [==============================] - 0s 1ms/step - loss: 3236.5837\n",
      "Epoch 47/100\n",
      "296/296 [==============================] - 0s 1ms/step - loss: 3255.6555\n",
      "Epoch 48/100\n",
      "296/296 [==============================] - 0s 1ms/step - loss: 3230.2891\n",
      "Epoch 49/100\n",
      "296/296 [==============================] - 0s 1ms/step - loss: 3213.7849\n",
      "Epoch 50/100\n",
      "296/296 [==============================] - 0s 1ms/step - loss: 3178.0820\n",
      "Epoch 51/100\n",
      "296/296 [==============================] - 0s 1ms/step - loss: 3206.0996\n",
      "Epoch 52/100\n",
      "296/296 [==============================] - 0s 1ms/step - loss: 3193.2273\n",
      "Epoch 53/100\n",
      "296/296 [==============================] - 0s 1ms/step - loss: 3181.1890\n",
      "Epoch 54/100\n",
      "296/296 [==============================] - 0s 1ms/step - loss: 3167.0159\n",
      "Epoch 55/100\n",
      "296/296 [==============================] - 0s 1ms/step - loss: 3156.1182\n",
      "Epoch 56/100\n",
      "296/296 [==============================] - 0s 1ms/step - loss: 3115.0403\n",
      "Epoch 57/100\n",
      "296/296 [==============================] - 0s 1ms/step - loss: 3149.8352\n",
      "Epoch 58/100\n",
      "296/296 [==============================] - 0s 1ms/step - loss: 3136.4507\n",
      "Epoch 59/100\n",
      "296/296 [==============================] - 0s 1ms/step - loss: 3110.3381\n",
      "Epoch 60/100\n",
      "296/296 [==============================] - 0s 1ms/step - loss: 3111.2102\n",
      "Epoch 61/100\n",
      "296/296 [==============================] - 0s 1ms/step - loss: 3093.5496\n",
      "Epoch 62/100\n",
      "296/296 [==============================] - 0s 1ms/step - loss: 3117.5359\n",
      "Epoch 63/100\n",
      "296/296 [==============================] - 0s 1ms/step - loss: 3088.8979\n",
      "Epoch 64/100\n",
      "296/296 [==============================] - 0s 1ms/step - loss: 3074.2622\n",
      "Epoch 65/100\n",
      "296/296 [==============================] - 0s 1ms/step - loss: 3077.6536\n",
      "Epoch 66/100\n",
      "296/296 [==============================] - 0s 1ms/step - loss: 3073.5161\n",
      "Epoch 67/100\n",
      "296/296 [==============================] - 0s 1ms/step - loss: 3064.1680\n",
      "Epoch 68/100\n",
      "296/296 [==============================] - 0s 1ms/step - loss: 3049.7773\n",
      "Epoch 69/100\n",
      "296/296 [==============================] - 0s 1ms/step - loss: 3053.1050\n",
      "Epoch 70/100\n",
      "296/296 [==============================] - 0s 1ms/step - loss: 3057.0002\n",
      "Epoch 71/100\n",
      "296/296 [==============================] - 0s 1ms/step - loss: 3046.5479\n",
      "Epoch 72/100\n",
      "296/296 [==============================] - 0s 1ms/step - loss: 2979.1387\n",
      "Epoch 73/100\n",
      "296/296 [==============================] - 0s 1ms/step - loss: 3045.5425\n",
      "Epoch 74/100\n",
      "296/296 [==============================] - 0s 1ms/step - loss: 3037.2830\n",
      "Epoch 75/100\n",
      "296/296 [==============================] - 0s 1ms/step - loss: 3024.9709\n",
      "Epoch 76/100\n",
      "296/296 [==============================] - 0s 1ms/step - loss: 3014.2161\n",
      "Epoch 77/100\n",
      "296/296 [==============================] - 0s 1ms/step - loss: 3018.3911\n",
      "Epoch 78/100\n",
      "296/296 [==============================] - 0s 1ms/step - loss: 2990.0303\n",
      "Epoch 79/100\n",
      "296/296 [==============================] - 0s 1ms/step - loss: 2985.6355\n",
      "Epoch 80/100\n",
      "296/296 [==============================] - 0s 1ms/step - loss: 3006.6782\n",
      "Epoch 81/100\n",
      "296/296 [==============================] - 0s 1ms/step - loss: 2999.6624\n",
      "Epoch 82/100\n",
      "296/296 [==============================] - 0s 1ms/step - loss: 2993.0999\n",
      "Epoch 83/100\n",
      "296/296 [==============================] - 0s 1ms/step - loss: 2979.9624\n",
      "Epoch 84/100\n",
      "296/296 [==============================] - 0s 1ms/step - loss: 2965.7927\n",
      "Epoch 85/100\n",
      "296/296 [==============================] - 0s 1ms/step - loss: 2964.6062\n",
      "Epoch 86/100\n",
      "296/296 [==============================] - 0s 1ms/step - loss: 2975.2847\n",
      "Epoch 87/100\n",
      "296/296 [==============================] - 0s 1ms/step - loss: 2978.0781\n",
      "Epoch 88/100\n",
      "296/296 [==============================] - 0s 1ms/step - loss: 2964.4932\n",
      "Epoch 89/100\n",
      "296/296 [==============================] - 0s 1ms/step - loss: 2970.3455\n",
      "Epoch 90/100\n",
      "296/296 [==============================] - 0s 1ms/step - loss: 2963.2388\n",
      "Epoch 91/100\n",
      "296/296 [==============================] - 0s 1ms/step - loss: 2952.2266\n",
      "Epoch 92/100\n",
      "296/296 [==============================] - 0s 1ms/step - loss: 2951.1743\n",
      "Epoch 93/100\n",
      "296/296 [==============================] - 0s 1ms/step - loss: 2953.7510\n",
      "Epoch 94/100\n",
      "296/296 [==============================] - 0s 1ms/step - loss: 2931.2893\n",
      "Epoch 95/100\n",
      "296/296 [==============================] - 0s 1ms/step - loss: 2953.7576\n",
      "Epoch 96/100\n",
      "296/296 [==============================] - 0s 1ms/step - loss: 2942.8289\n",
      "Epoch 97/100\n",
      "296/296 [==============================] - 0s 1ms/step - loss: 2940.5066\n",
      "Epoch 98/100\n",
      "296/296 [==============================] - 0s 1ms/step - loss: 2939.8723\n",
      "Epoch 99/100\n",
      "296/296 [==============================] - 0s 1ms/step - loss: 2901.2944\n",
      "Epoch 100/100\n",
      "296/296 [==============================] - 0s 1ms/step - loss: 2909.9004\n"
     ]
    },
    {
     "data": {
      "text/plain": [
       "<keras.callbacks.History at 0x1ae1d802940>"
      ]
     },
     "execution_count": 7,
     "metadata": {},
     "output_type": "execute_result"
    }
   ],
   "source": [
    "model.fit(X_train, y_train, epochs=100, batch_size=1, verbose=1)"
   ]
  },
  {
   "cell_type": "markdown",
   "metadata": {},
   "source": [
    "**Task 1.4** Evaluate the model using `model.evaluate()`."
   ]
  },
  {
   "cell_type": "code",
   "execution_count": 8,
   "metadata": {},
   "outputs": [
    {
     "name": "stdout",
     "output_type": "stream",
     "text": [
      "146/146 [==============================] - 0s 1ms/step - loss: 3052.5322\n"
     ]
    },
    {
     "data": {
      "text/plain": [
       "3052.5322265625"
      ]
     },
     "execution_count": 8,
     "metadata": {},
     "output_type": "execute_result"
    }
   ],
   "source": [
    "model.evaluate(X_test, y_test, batch_size=1)"
   ]
  },
  {
   "cell_type": "markdown",
   "metadata": {},
   "source": [
    "**Task 1.5** Get predictions on `X_test`. Plot `y_test` vs. predictions. On the same plot, plot a $x = y$ line. Think about what this line represents."
   ]
  },
  {
   "cell_type": "code",
   "execution_count": 9,
   "metadata": {},
   "outputs": [
    {
     "name": "stdout",
     "output_type": "stream",
     "text": [
      "5/5 [==============================] - 0s 0s/step\n"
     ]
    },
    {
     "data": {
      "image/png": "[encoded data removed]",
      "text/plain": [
       "<Figure size 640x480 with 1 Axes>"
      ]
     },
     "metadata": {},
     "output_type": "display_data"
    }
   ],
   "source": [
    "y_pred = model.predict(X_test)\n",
    "\n",
    "plt.scatter(y_test, y_pred)\n",
    "plt.plot([0, 300], [0, 300], 'r')\n",
    "\n",
    "plt.xlabel('y_test')\n",
    "plt.ylabel('y_pred')\n",
    "\n",
    "plt.show()"
   ]
  },
  {
   "cell_type": "markdown",
   "metadata": {},
   "source": [
    "## 2. Binary classification"
   ]
  },
  {
   "cell_type": "markdown",
   "metadata": {},
   "source": [
    "**The dataset**\n",
    "\n",
    "In this task, you will use the breast cancer dataset provided by `scikit-learn`.\n",
    "\n",
    "Please read the dataset documentation before you start:\n",
    "\n",
    "https://scikit-learn.org/stable/datasets/toy_dataset.html#breast-cancer-dataset"
   ]
  },
  {
   "cell_type": "code",
   "execution_count": 10,
   "metadata": {},
   "outputs": [
    {
     "data": {
      "text/html": [
       "<div>\n",
       "<style scoped>\n",
       "    .dataframe tbody tr th:only-of-type {\n",
       "        vertical-align: middle;\n",
       "    }\n",
       "\n",
       "    .dataframe tbody tr th {\n",
       "        vertical-align: top;\n",
       "    }\n",
       "\n",
       "    .dataframe thead th {\n",
       "        text-align: right;\n",
       "    }\n",
       "</style>\n",
       "<table border=\"1\" class=\"dataframe\">\n",
       "  <thead>\n",
       "    <tr style=\"text-align: right;\">\n",
       "      <th></th>\n",
       "      <th>mean radius</th>\n",
       "      <th>mean texture</th>\n",
       "      <th>mean perimeter</th>\n",
       "      <th>mean area</th>\n",
       "      <th>mean smoothness</th>\n",
       "      <th>mean compactness</th>\n",
       "      <th>mean concavity</th>\n",
       "      <th>mean concave points</th>\n",
       "      <th>mean symmetry</th>\n",
       "      <th>mean fractal dimension</th>\n",
       "      <th>...</th>\n",
       "      <th>worst texture</th>\n",
       "      <th>worst perimeter</th>\n",
       "      <th>worst area</th>\n",
       "      <th>worst smoothness</th>\n",
       "      <th>worst compactness</th>\n",
       "      <th>worst concavity</th>\n",
       "      <th>worst concave points</th>\n",
       "      <th>worst symmetry</th>\n",
       "      <th>worst fractal dimension</th>\n",
       "      <th>Benign</th>\n",
       "    </tr>\n",
       "  </thead>\n",
       "  <tbody>\n",
       "    <tr>\n",
       "      <th>0</th>\n",
       "      <td>17.99</td>\n",
       "      <td>10.38</td>\n",
       "      <td>122.80</td>\n",
       "      <td>1001.0</td>\n",
       "      <td>0.11840</td>\n",
       "      <td>0.27760</td>\n",
       "      <td>0.3001</td>\n",
       "      <td>0.14710</td>\n",
       "      <td>0.2419</td>\n",
       "      <td>0.07871</td>\n",
       "      <td>...</td>\n",
       "      <td>17.33</td>\n",
       "      <td>184.60</td>\n",
       "      <td>2019.0</td>\n",
       "      <td>0.1622</td>\n",
       "      <td>0.6656</td>\n",
       "      <td>0.7119</td>\n",
       "      <td>0.2654</td>\n",
       "      <td>0.4601</td>\n",
       "      <td>0.11890</td>\n",
       "      <td>0.0</td>\n",
       "    </tr>\n",
       "    <tr>\n",
       "      <th>1</th>\n",
       "      <td>20.57</td>\n",
       "      <td>17.77</td>\n",
       "      <td>132.90</td>\n",
       "      <td>1326.0</td>\n",
       "      <td>0.08474</td>\n",
       "      <td>0.07864</td>\n",
       "      <td>0.0869</td>\n",
       "      <td>0.07017</td>\n",
       "      <td>0.1812</td>\n",
       "      <td>0.05667</td>\n",
       "      <td>...</td>\n",
       "      <td>23.41</td>\n",
       "      <td>158.80</td>\n",
       "      <td>1956.0</td>\n",
       "      <td>0.1238</td>\n",
       "      <td>0.1866</td>\n",
       "      <td>0.2416</td>\n",
       "      <td>0.1860</td>\n",
       "      <td>0.2750</td>\n",
       "      <td>0.08902</td>\n",
       "      <td>0.0</td>\n",
       "    </tr>\n",
       "    <tr>\n",
       "      <th>2</th>\n",
       "      <td>19.69</td>\n",
       "      <td>21.25</td>\n",
       "      <td>130.00</td>\n",
       "      <td>1203.0</td>\n",
       "      <td>0.10960</td>\n",
       "      <td>0.15990</td>\n",
       "      <td>0.1974</td>\n",
       "      <td>0.12790</td>\n",
       "      <td>0.2069</td>\n",
       "      <td>0.05999</td>\n",
       "      <td>...</td>\n",
       "      <td>25.53</td>\n",
       "      <td>152.50</td>\n",
       "      <td>1709.0</td>\n",
       "      <td>0.1444</td>\n",
       "      <td>0.4245</td>\n",
       "      <td>0.4504</td>\n",
       "      <td>0.2430</td>\n",
       "      <td>0.3613</td>\n",
       "      <td>0.08758</td>\n",
       "      <td>0.0</td>\n",
       "    </tr>\n",
       "    <tr>\n",
       "      <th>3</th>\n",
       "      <td>11.42</td>\n",
       "      <td>20.38</td>\n",
       "      <td>77.58</td>\n",
       "      <td>386.1</td>\n",
       "      <td>0.14250</td>\n",
       "      <td>0.28390</td>\n",
       "      <td>0.2414</td>\n",
       "      <td>0.10520</td>\n",
       "      <td>0.2597</td>\n",
       "      <td>0.09744</td>\n",
       "      <td>...</td>\n",
       "      <td>26.50</td>\n",
       "      <td>98.87</td>\n",
       "      <td>567.7</td>\n",
       "      <td>0.2098</td>\n",
       "      <td>0.8663</td>\n",
       "      <td>0.6869</td>\n",
       "      <td>0.2575</td>\n",
       "      <td>0.6638</td>\n",
       "      <td>0.17300</td>\n",
       "      <td>0.0</td>\n",
       "    </tr>\n",
       "    <tr>\n",
       "      <th>4</th>\n",
       "      <td>20.29</td>\n",
       "      <td>14.34</td>\n",
       "      <td>135.10</td>\n",
       "      <td>1297.0</td>\n",
       "      <td>0.10030</td>\n",
       "      <td>0.13280</td>\n",
       "      <td>0.1980</td>\n",
       "      <td>0.10430</td>\n",
       "      <td>0.1809</td>\n",
       "      <td>0.05883</td>\n",
       "      <td>...</td>\n",
       "      <td>16.67</td>\n",
       "      <td>152.20</td>\n",
       "      <td>1575.0</td>\n",
       "      <td>0.1374</td>\n",
       "      <td>0.2050</td>\n",
       "      <td>0.4000</td>\n",
       "      <td>0.1625</td>\n",
       "      <td>0.2364</td>\n",
       "      <td>0.07678</td>\n",
       "      <td>0.0</td>\n",
       "    </tr>\n",
       "  </tbody>\n",
       "</table>\n",
       "<p>5 rows × 31 columns</p>\n",
       "</div>"
      ],
      "text/plain": [
       "   mean radius  mean texture  mean perimeter  mean area  mean smoothness  \\\n",
       "0        17.99         10.38          122.80     1001.0          0.11840   \n",
       "1        20.57         17.77          132.90     1326.0          0.08474   \n",
       "2        19.69         21.25          130.00     1203.0          0.10960   \n",
       "3        11.42         20.38           77.58      386.1          0.14250   \n",
       "4        20.29         14.34          135.10     1297.0          0.10030   \n",
       "\n",
       "   mean compactness  mean concavity  mean concave points  mean symmetry  \\\n",
       "0           0.27760          0.3001              0.14710         0.2419   \n",
       "1           0.07864          0.0869              0.07017         0.1812   \n",
       "2           0.15990          0.1974              0.12790         0.2069   \n",
       "3           0.28390          0.2414              0.10520         0.2597   \n",
       "4           0.13280          0.1980              0.10430         0.1809   \n",
       "\n",
       "   mean fractal dimension  ...  worst texture  worst perimeter  worst area  \\\n",
       "0                 0.07871  ...          17.33           184.60      2019.0   \n",
       "1                 0.05667  ...          23.41           158.80      1956.0   \n",
       "2                 0.05999  ...          25.53           152.50      1709.0   \n",
       "3                 0.09744  ...          26.50            98.87       567.7   \n",
       "4                 0.05883  ...          16.67           152.20      1575.0   \n",
       "\n",
       "   worst smoothness  worst compactness  worst concavity  worst concave points  \\\n",
       "0            0.1622             0.6656           0.7119                0.2654   \n",
       "1            0.1238             0.1866           0.2416                0.1860   \n",
       "2            0.1444             0.4245           0.4504                0.2430   \n",
       "3            0.2098             0.8663           0.6869                0.2575   \n",
       "4            0.1374             0.2050           0.4000                0.1625   \n",
       "\n",
       "   worst symmetry  worst fractal dimension  Benign  \n",
       "0          0.4601                  0.11890     0.0  \n",
       "1          0.2750                  0.08902     0.0  \n",
       "2          0.3613                  0.08758     0.0  \n",
       "3          0.6638                  0.17300     0.0  \n",
       "4          0.2364                  0.07678     0.0  \n",
       "\n",
       "[5 rows x 31 columns]"
      ]
     },
     "execution_count": 10,
     "metadata": {},
     "output_type": "execute_result"
    }
   ],
   "source": [
    "from sklearn.datasets import load_breast_cancer\n",
    "cancer = load_breast_cancer()\n",
    "X = cancer.data\n",
    "y = cancer.target\n",
    "names = list(cancer.feature_names)\n",
    "Xy_combined = np.concatenate((X, y[:, np.newaxis]), axis=1)\n",
    "df = pd.DataFrame(Xy_combined,\n",
    "                  columns=names + ['Benign'])\n",
    "df.head()"
   ]
  },
  {
   "cell_type": "code",
   "execution_count": 11,
   "metadata": {},
   "outputs": [],
   "source": [
    "from sklearn.model_selection import train_test_split\n",
    "X_train, X_test, y_train, y_test = train_test_split(X,\n",
    "                                                    y,\n",
    "                                                    test_size=0.33,\n",
    "                                                    random_state=0)"
   ]
  },
  {
   "cell_type": "code",
   "execution_count": 12,
   "metadata": {},
   "outputs": [
    {
     "data": {
      "text/plain": [
       "((381, 30), (188, 30), (381,), (188,))"
      ]
     },
     "execution_count": 12,
     "metadata": {},
     "output_type": "execute_result"
    }
   ],
   "source": [
    "X_train.shape, X_test.shape, y_train.shape, y_test.shape"
   ]
  },
  {
   "cell_type": "markdown",
   "metadata": {},
   "source": [
    "**Task 2.1**\n",
    "\n",
    "Build an MLP suitable for the breast cancer dataset. Use a `Sequential()` model and `Dense` layers from Keras. You are free to pick any number of hidden layers and any number of units per layer as long as it works. Use suitable activation functions."
   ]
  },
  {
   "cell_type": "code",
   "execution_count": 13,
   "metadata": {},
   "outputs": [],
   "source": [
    "model_2 = Sequential()\n",
    "model_2.add(Dense(64, input_dim=30, activation='sigmoid'))\n",
    "model_2.add(Dense(32, activation='sigmoid'))\n",
    "model_2.add(Dense(1, activation='sigmoid'))"
   ]
  },
  {
   "cell_type": "markdown",
   "metadata": {},
   "source": [
    "**Task 2.2**\n",
    "\n",
    "Compile the model by selecting a suitable optimizer and a suitable loss function. Also include a metric or metrics."
   ]
  },
  {
   "cell_type": "code",
   "execution_count": 14,
   "metadata": {},
   "outputs": [],
   "source": [
    "model_2.compile(loss='binary_crossentropy', optimizer='adam')"
   ]
  },
  {
   "cell_type": "markdown",
   "metadata": {},
   "source": [
    "**Task 2.3**\n",
    "\n",
    "Train the model on X_train, y_train and use X_test, y_test as validation data. Pick a suitable number of epochs and batch size."
   ]
  },
  {
   "cell_type": "code",
   "execution_count": 15,
   "metadata": {},
   "outputs": [
    {
     "name": "stdout",
     "output_type": "stream",
     "text": [
      "Epoch 1/100\n",
      "39/39 - 1s - loss: 0.6764 - 588ms/epoch - 15ms/step\n",
      "Epoch 2/100\n",
      "39/39 - 0s - loss: 0.5739 - 56ms/epoch - 1ms/step\n",
      "Epoch 3/100\n",
      "39/39 - 0s - loss: 0.5011 - 56ms/epoch - 1ms/step\n",
      "Epoch 4/100\n",
      "39/39 - 0s - loss: 0.4308 - 48ms/epoch - 1ms/step\n",
      "Epoch 5/100\n",
      "39/39 - 0s - loss: 0.3752 - 56ms/epoch - 1ms/step\n",
      "Epoch 6/100\n",
      "39/39 - 0s - loss: 0.3289 - 57ms/epoch - 1ms/step\n",
      "Epoch 7/100\n",
      "39/39 - 0s - loss: 0.3100 - 55ms/epoch - 1ms/step\n",
      "Epoch 8/100\n",
      "39/39 - 0s - loss: 0.2793 - 56ms/epoch - 1ms/step\n",
      "Epoch 9/100\n",
      "39/39 - 0s - loss: 0.2726 - 48ms/epoch - 1ms/step\n",
      "Epoch 10/100\n",
      "39/39 - 0s - loss: 0.2823 - 48ms/epoch - 1ms/step\n",
      "Epoch 11/100\n",
      "39/39 - 0s - loss: 0.2651 - 56ms/epoch - 1ms/step\n",
      "Epoch 12/100\n",
      "39/39 - 0s - loss: 0.2493 - 56ms/epoch - 1ms/step\n",
      "Epoch 13/100\n",
      "39/39 - 0s - loss: 0.2436 - 56ms/epoch - 1ms/step\n",
      "Epoch 14/100\n",
      "39/39 - 0s - loss: 0.2328 - 48ms/epoch - 1ms/step\n",
      "Epoch 15/100\n",
      "39/39 - 0s - loss: 0.2372 - 48ms/epoch - 1ms/step\n",
      "Epoch 16/100\n",
      "39/39 - 0s - loss: 0.2764 - 56ms/epoch - 1ms/step\n",
      "Epoch 17/100\n",
      "39/39 - 0s - loss: 0.2381 - 56ms/epoch - 1ms/step\n",
      "Epoch 18/100\n",
      "39/39 - 0s - loss: 0.2338 - 56ms/epoch - 1ms/step\n",
      "Epoch 19/100\n",
      "39/39 - 0s - loss: 0.2165 - 48ms/epoch - 1ms/step\n",
      "Epoch 20/100\n",
      "39/39 - 0s - loss: 0.2218 - 56ms/epoch - 1ms/step\n",
      "Epoch 21/100\n",
      "39/39 - 0s - loss: 0.2360 - 48ms/epoch - 1ms/step\n",
      "Epoch 22/100\n",
      "39/39 - 0s - loss: 0.2125 - 56ms/epoch - 1ms/step\n",
      "Epoch 23/100\n",
      "39/39 - 0s - loss: 0.2347 - 48ms/epoch - 1ms/step\n",
      "Epoch 24/100\n",
      "39/39 - 0s - loss: 0.2388 - 48ms/epoch - 1ms/step\n",
      "Epoch 25/100\n",
      "39/39 - 0s - loss: 0.2168 - 48ms/epoch - 1ms/step\n",
      "Epoch 26/100\n",
      "39/39 - 0s - loss: 0.2220 - 56ms/epoch - 1ms/step\n",
      "Epoch 27/100\n",
      "39/39 - 0s - loss: 0.2243 - 48ms/epoch - 1ms/step\n",
      "Epoch 28/100\n",
      "39/39 - 0s - loss: 0.2254 - 56ms/epoch - 1ms/step\n",
      "Epoch 29/100\n",
      "39/39 - 0s - loss: 0.2081 - 48ms/epoch - 1ms/step\n",
      "Epoch 30/100\n",
      "39/39 - 0s - loss: 0.2163 - 47ms/epoch - 1ms/step\n",
      "Epoch 31/100\n",
      "39/39 - 0s - loss: 0.2127 - 57ms/epoch - 1ms/step\n",
      "Epoch 32/100\n",
      "39/39 - 0s - loss: 0.2195 - 55ms/epoch - 1ms/step\n",
      "Epoch 33/100\n",
      "39/39 - 0s - loss: 0.2082 - 48ms/epoch - 1ms/step\n",
      "Epoch 34/100\n",
      "39/39 - 0s - loss: 0.2222 - 48ms/epoch - 1ms/step\n",
      "Epoch 35/100\n",
      "39/39 - 0s - loss: 0.2051 - 66ms/epoch - 2ms/step\n",
      "Epoch 36/100\n",
      "39/39 - 0s - loss: 0.1896 - 56ms/epoch - 1ms/step\n",
      "Epoch 37/100\n",
      "39/39 - 0s - loss: 0.2070 - 56ms/epoch - 1ms/step\n",
      "Epoch 38/100\n",
      "39/39 - 0s - loss: 0.2059 - 48ms/epoch - 1ms/step\n",
      "Epoch 39/100\n",
      "39/39 - 0s - loss: 0.1977 - 56ms/epoch - 1ms/step\n",
      "Epoch 40/100\n",
      "39/39 - 0s - loss: 0.2053 - 56ms/epoch - 1ms/step\n",
      "Epoch 41/100\n",
      "39/39 - 0s - loss: 0.2141 - 56ms/epoch - 1ms/step\n",
      "Epoch 42/100\n",
      "39/39 - 0s - loss: 0.1948 - 56ms/epoch - 1ms/step\n",
      "Epoch 43/100\n",
      "39/39 - 0s - loss: 0.2245 - 56ms/epoch - 1ms/step\n",
      "Epoch 44/100\n",
      "39/39 - 0s - loss: 0.1993 - 58ms/epoch - 1ms/step\n",
      "Epoch 45/100\n",
      "39/39 - 0s - loss: 0.2002 - 54ms/epoch - 1ms/step\n",
      "Epoch 46/100\n",
      "39/39 - 0s - loss: 0.2004 - 56ms/epoch - 1ms/step\n",
      "Epoch 47/100\n",
      "39/39 - 0s - loss: 0.2193 - 56ms/epoch - 1ms/step\n",
      "Epoch 48/100\n",
      "39/39 - 0s - loss: 0.2247 - 56ms/epoch - 1ms/step\n",
      "Epoch 49/100\n",
      "39/39 - 0s - loss: 0.2082 - 56ms/epoch - 1ms/step\n",
      "Epoch 50/100\n",
      "39/39 - 0s - loss: 0.2074 - 56ms/epoch - 1ms/step\n",
      "Epoch 51/100\n",
      "39/39 - 0s - loss: 0.2314 - 88ms/epoch - 2ms/step\n",
      "Epoch 52/100\n",
      "39/39 - 0s - loss: 0.2751 - 48ms/epoch - 1ms/step\n",
      "Epoch 53/100\n",
      "39/39 - 0s - loss: 0.2483 - 56ms/epoch - 1ms/step\n",
      "Epoch 54/100\n",
      "39/39 - 0s - loss: 0.2021 - 56ms/epoch - 1ms/step\n",
      "Epoch 55/100\n",
      "39/39 - 0s - loss: 0.2171 - 48ms/epoch - 1ms/step\n",
      "Epoch 56/100\n",
      "39/39 - 0s - loss: 0.2131 - 48ms/epoch - 1ms/step\n",
      "Epoch 57/100\n",
      "39/39 - 0s - loss: 0.2059 - 56ms/epoch - 1ms/step\n",
      "Epoch 58/100\n",
      "39/39 - 0s - loss: 0.2133 - 56ms/epoch - 1ms/step\n",
      "Epoch 59/100\n",
      "39/39 - 0s - loss: 0.2193 - 48ms/epoch - 1ms/step\n",
      "Epoch 60/100\n",
      "39/39 - 0s - loss: 0.2029 - 48ms/epoch - 1ms/step\n",
      "Epoch 61/100\n",
      "39/39 - 0s - loss: 0.2765 - 56ms/epoch - 1ms/step\n",
      "Epoch 62/100\n",
      "39/39 - 0s - loss: 0.2116 - 56ms/epoch - 1ms/step\n",
      "Epoch 63/100\n",
      "39/39 - 0s - loss: 0.2225 - 48ms/epoch - 1ms/step\n",
      "Epoch 64/100\n",
      "39/39 - 0s - loss: 0.2093 - 48ms/epoch - 1ms/step\n",
      "Epoch 65/100\n",
      "39/39 - 0s - loss: 0.2165 - 56ms/epoch - 1ms/step\n",
      "Epoch 66/100\n",
      "39/39 - 0s - loss: 0.2131 - 48ms/epoch - 1ms/step\n",
      "Epoch 67/100\n",
      "39/39 - 0s - loss: 0.2033 - 48ms/epoch - 1ms/step\n",
      "Epoch 68/100\n",
      "39/39 - 0s - loss: 0.1939 - 56ms/epoch - 1ms/step\n",
      "Epoch 69/100\n",
      "39/39 - 0s - loss: 0.2123 - 48ms/epoch - 1ms/step\n",
      "Epoch 70/100\n",
      "39/39 - 0s - loss: 0.2107 - 48ms/epoch - 1ms/step\n",
      "Epoch 71/100\n",
      "39/39 - 0s - loss: 0.2011 - 56ms/epoch - 1ms/step\n",
      "Epoch 72/100\n",
      "39/39 - 0s - loss: 0.2096 - 48ms/epoch - 1ms/step\n",
      "Epoch 73/100\n",
      "39/39 - 0s - loss: 0.2098 - 48ms/epoch - 1ms/step\n",
      "Epoch 74/100\n",
      "39/39 - 0s - loss: 0.2130 - 48ms/epoch - 1ms/step\n",
      "Epoch 75/100\n",
      "39/39 - 0s - loss: 0.1994 - 48ms/epoch - 1ms/step\n",
      "Epoch 76/100\n",
      "39/39 - 0s - loss: 0.1808 - 56ms/epoch - 1ms/step\n",
      "Epoch 77/100\n",
      "39/39 - 0s - loss: 0.2099 - 56ms/epoch - 1ms/step\n",
      "Epoch 78/100\n",
      "39/39 - 0s - loss: 0.2340 - 48ms/epoch - 1ms/step\n",
      "Epoch 79/100\n",
      "39/39 - 0s - loss: 0.2166 - 48ms/epoch - 1ms/step\n",
      "Epoch 80/100\n",
      "39/39 - 0s - loss: 0.2059 - 49ms/epoch - 1ms/step\n",
      "Epoch 81/100\n",
      "39/39 - 0s - loss: 0.2102 - 55ms/epoch - 1ms/step\n",
      "Epoch 82/100\n",
      "39/39 - 0s - loss: 0.2191 - 56ms/epoch - 1ms/step\n",
      "Epoch 83/100\n",
      "39/39 - 0s - loss: 0.2201 - 56ms/epoch - 1ms/step\n",
      "Epoch 84/100\n",
      "39/39 - 0s - loss: 0.2144 - 56ms/epoch - 1ms/step\n",
      "Epoch 85/100\n",
      "39/39 - 0s - loss: 0.2224 - 48ms/epoch - 1ms/step\n",
      "Epoch 86/100\n",
      "39/39 - 0s - loss: 0.2046 - 48ms/epoch - 1ms/step\n",
      "Epoch 87/100\n",
      "39/39 - 0s - loss: 0.1956 - 56ms/epoch - 1ms/step\n",
      "Epoch 88/100\n",
      "39/39 - 0s - loss: 0.2144 - 56ms/epoch - 1ms/step\n",
      "Epoch 89/100\n",
      "39/39 - 0s - loss: 0.2181 - 56ms/epoch - 1ms/step\n",
      "Epoch 90/100\n",
      "39/39 - 0s - loss: 0.2308 - 48ms/epoch - 1ms/step\n",
      "Epoch 91/100\n",
      "39/39 - 0s - loss: 0.2109 - 48ms/epoch - 1ms/step\n",
      "Epoch 92/100\n",
      "39/39 - 0s - loss: 0.2106 - 48ms/epoch - 1ms/step\n",
      "Epoch 93/100\n",
      "39/39 - 0s - loss: 0.1851 - 56ms/epoch - 1ms/step\n",
      "Epoch 94/100\n",
      "39/39 - 0s - loss: 0.1976 - 56ms/epoch - 1ms/step\n",
      "Epoch 95/100\n",
      "39/39 - 0s - loss: 0.2073 - 56ms/epoch - 1ms/step\n",
      "Epoch 96/100\n",
      "39/39 - 0s - loss: 0.2224 - 56ms/epoch - 1ms/step\n",
      "Epoch 97/100\n",
      "39/39 - 0s - loss: 0.2079 - 48ms/epoch - 1ms/step\n",
      "Epoch 98/100\n",
      "39/39 - 0s - loss: 0.2258 - 56ms/epoch - 1ms/step\n",
      "Epoch 99/100\n",
      "39/39 - 0s - loss: 0.2079 - 48ms/epoch - 1ms/step\n",
      "Epoch 100/100\n",
      "39/39 - 0s - loss: 0.2028 - 48ms/epoch - 1ms/step\n"
     ]
    },
    {
     "data": {
      "text/plain": [
       "<keras.callbacks.History at 0x1ae1ffe7dc0>"
      ]
     },
     "execution_count": 15,
     "metadata": {},
     "output_type": "execute_result"
    }
   ],
   "source": [
    "model_2.fit(X_train, y_train, epochs=100, batch_size=10, verbose=2)"
   ]
  },
  {
   "cell_type": "markdown",
   "metadata": {},
   "source": [
    "**Task 2.4**\n",
    "\n",
    "Evaluate the model using `model.evaluate()`."
   ]
  },
  {
   "cell_type": "code",
   "execution_count": 16,
   "metadata": {},
   "outputs": [
    {
     "name": "stdout",
     "output_type": "stream",
     "text": [
      "188/188 [==============================] - 0s 1ms/step - loss: 0.1813\n"
     ]
    },
    {
     "data": {
      "text/plain": [
       "0.18131200969219208"
      ]
     },
     "execution_count": 16,
     "metadata": {},
     "output_type": "execute_result"
    }
   ],
   "source": [
    "model_2.evaluate(X_test, y_test, batch_size=1)"
   ]
  },
  {
   "cell_type": "markdown",
   "metadata": {},
   "source": [
    "**Task 2.5**\n",
    "\n",
    "Plot the confusion matrix for your trained model on the test set."
   ]
  },
  {
   "cell_type": "code",
   "execution_count": 17,
   "metadata": {},
   "outputs": [
    {
     "name": "stdout",
     "output_type": "stream",
     "text": [
      "6/6 [==============================] - 0s 403us/step\n"
     ]
    },
    {
     "data": {
      "text/plain": [
       "<AxesSubplot: >"
      ]
     },
     "execution_count": 17,
     "metadata": {},
     "output_type": "execute_result"
    },
    {
     "data": {
      "image/png": "[encoded data removed]",
      "text/plain": [
       "<Figure size 1000x700 with 2 Axes>"
      ]
     },
     "metadata": {},
     "output_type": "display_data"
    }
   ],
   "source": [
    "from sklearn.metrics import confusion_matrix\n",
    "import seaborn as sns\n",
    "\n",
    "y_pred = model_2.predict(X_test)\n",
    "y_pred = np.round(y_pred)\n",
    "\n",
    "cm = confusion_matrix(y_test, y_pred)\n",
    "\n",
    "plt.figure(figsize=(10,7))\n",
    "plt.xlabel('Predicted')\n",
    "plt.ylabel('True')\n",
    "\n",
    "sns.heatmap(cm, annot=True)"
   ]
  },
  {
   "cell_type": "markdown",
   "metadata": {},
   "source": [
    "## 3. Multi-class classification"
   ]
  },
  {
   "cell_type": "markdown",
   "metadata": {},
   "source": [
    "**The dataset**\n",
    "\n",
    "In this task, you will use the MNIST dataset provided by `keras`.\n",
    "\n",
    "Please read the dataset documentation before you start:\n",
    "\n",
    "https://keras.io/api/datasets/mnist/"
   ]
  },
  {
   "cell_type": "code",
   "execution_count": 18,
   "metadata": {},
   "outputs": [],
   "source": [
    "from keras.datasets import mnist\n",
    "(X_train, y_train), (X_test, y_test) = mnist.load_data()"
   ]
  },
  {
   "cell_type": "code",
   "execution_count": 19,
   "metadata": {},
   "outputs": [
    {
     "name": "stdout",
     "output_type": "stream",
     "text": [
      "Label: 9\n"
     ]
    },
    {
     "data": {
      "image/png": "[encoded data removed]",
      "text/plain": [
       "<Figure size 640x480 with 1 Axes>"
      ]
     },
     "metadata": {},
     "output_type": "display_data"
    }
   ],
   "source": [
    "# View random digit\n",
    "index = np.random.randint(0, 60000)\n",
    "plt.imshow(X_train[index])\n",
    "print('Label:', y_train[index])"
   ]
  },
  {
   "cell_type": "code",
   "execution_count": 20,
   "metadata": {},
   "outputs": [
    {
     "data": {
      "text/plain": [
       "((60000, 28, 28), (10000, 28, 28), (60000,), (10000,))"
      ]
     },
     "execution_count": 20,
     "metadata": {},
     "output_type": "execute_result"
    }
   ],
   "source": [
    "X_train.shape, X_test.shape, y_train.shape, y_test.shape"
   ]
  },
  {
   "cell_type": "markdown",
   "metadata": {},
   "source": [
    "**Task 3.1**\n",
    "\n",
    "The MLP architecture you will build is given below. 784 input units, two hidden layers with 30 units each, one output layer with 10 units. Notice that X_train shape and input layer shape are not compatible. Similary, y_train and the output layer shape, are not compatible. Preprocess the data to make them compatible. Same is true for the test data.\n",
    "\n",
    "<img src=https://i.imgur.com/OFNAslJ.png width=\"500\">\n",
    "\n"
   ]
  },
  {
   "cell_type": "code",
   "execution_count": 21,
   "metadata": {},
   "outputs": [],
   "source": [
    "from tensorflow.keras.utils import to_categorical\n",
    "X_train = X_train.reshape(60000, 784)\n",
    "X_test = X_test.reshape(10000, 784)\n",
    "y_train = to_categorical(y_train, num_classes=10)\n",
    "y_test = to_categorical(y_test, num_classes=10)\n",
    "\n",
    "X_train = X_train.astype('float32')\n",
    "X_test = X_test.astype('float32')\n",
    "y_train = y_train.astype('float32')\n",
    "y_test = y_test.astype('float32')\n"
   ]
  },
  {
   "cell_type": "markdown",
   "metadata": {},
   "source": [
    "**Task 3.2**\n",
    "\n",
    "Build an MLP suitable for the MNIST dataset. Use a `Sequential()` model and `Dense` layers from Keras. Build the architecture shown in Task 3.1 Use suitable activation functions."
   ]
  },
  {
   "cell_type": "code",
   "execution_count": 22,
   "metadata": {},
   "outputs": [],
   "source": [
    "model_3 = Sequential()\n",
    "model_3.add(Dense(10, input_dim=784, activation='relu'))\n",
    "model_3.add(Dense(10, activation='relu'))\n",
    "model_3.add(Dense(10, activation='softmax'))"
   ]
  },
  {
   "cell_type": "markdown",
   "metadata": {},
   "source": [
    "**Task 3.3**\n",
    "\n",
    "Compile the model by selecting a suitable optimizer and a suitable loss function. Also include a metric or metrics."
   ]
  },
  {
   "cell_type": "code",
   "execution_count": 23,
   "metadata": {},
   "outputs": [],
   "source": [
    "model_3.compile(loss='categorical_crossentropy', optimizer='adam', metrics=['accuracy'])"
   ]
  },
  {
   "cell_type": "markdown",
   "metadata": {},
   "source": [
    "**Task 3.4**\n",
    "\n",
    "Train the model on X_train, y_train and use X_test, y_test as validation data. Pick a suitable number of epochs and batch size."
   ]
  },
  {
   "cell_type": "code",
   "execution_count": 24,
   "metadata": {},
   "outputs": [
    {
     "name": "stdout",
     "output_type": "stream",
     "text": [
      "Epoch 1/30\n",
      "600/600 [==============================] - 2s 2ms/step - loss: 2.6671 - accuracy: 0.3215\n",
      "Epoch 2/30\n",
      "600/600 [==============================] - 1s 2ms/step - loss: 1.3122 - accuracy: 0.5352\n",
      "Epoch 3/30\n",
      "600/600 [==============================] - 1s 2ms/step - loss: 1.0828 - accuracy: 0.6116\n",
      "Epoch 4/30\n",
      "600/600 [==============================] - 1s 2ms/step - loss: 0.9465 - accuracy: 0.6823\n",
      "Epoch 5/30\n",
      "600/600 [==============================] - 1s 2ms/step - loss: 0.8402 - accuracy: 0.7395\n",
      "Epoch 6/30\n",
      "600/600 [==============================] - 1s 2ms/step - loss: 0.7657 - accuracy: 0.7680\n",
      "Epoch 7/30\n",
      "600/600 [==============================] - 1s 2ms/step - loss: 0.6931 - accuracy: 0.7840\n",
      "Epoch 8/30\n",
      "600/600 [==============================] - 1s 2ms/step - loss: 0.6263 - accuracy: 0.8083\n",
      "Epoch 9/30\n",
      "600/600 [==============================] - 1s 2ms/step - loss: 0.5783 - accuracy: 0.8225\n",
      "Epoch 10/30\n",
      "600/600 [==============================] - 1s 2ms/step - loss: 0.5511 - accuracy: 0.8304\n",
      "Epoch 11/30\n",
      "600/600 [==============================] - 1s 2ms/step - loss: 0.5283 - accuracy: 0.8389\n",
      "Epoch 12/30\n",
      "600/600 [==============================] - 1s 2ms/step - loss: 0.5088 - accuracy: 0.8453\n",
      "Epoch 13/30\n",
      "600/600 [==============================] - 1s 2ms/step - loss: 0.4885 - accuracy: 0.8520\n",
      "Epoch 14/30\n",
      "600/600 [==============================] - 1s 2ms/step - loss: 0.4636 - accuracy: 0.8615\n",
      "Epoch 15/30\n",
      "600/600 [==============================] - 1s 2ms/step - loss: 0.4455 - accuracy: 0.8686\n",
      "Epoch 16/30\n",
      "600/600 [==============================] - 2s 3ms/step - loss: 0.4294 - accuracy: 0.8719\n",
      "Epoch 17/30\n",
      "600/600 [==============================] - 1s 2ms/step - loss: 0.4252 - accuracy: 0.8739\n",
      "Epoch 18/30\n",
      "600/600 [==============================] - 2s 4ms/step - loss: 0.4195 - accuracy: 0.8759\n",
      "Epoch 19/30\n",
      "600/600 [==============================] - 1s 2ms/step - loss: 0.4120 - accuracy: 0.8768\n",
      "Epoch 20/30\n",
      "600/600 [==============================] - 1s 2ms/step - loss: 0.4118 - accuracy: 0.8780\n",
      "Epoch 21/30\n",
      "600/600 [==============================] - 1s 2ms/step - loss: 0.4066 - accuracy: 0.8801\n",
      "Epoch 22/30\n",
      "600/600 [==============================] - 1s 2ms/step - loss: 0.4045 - accuracy: 0.8807\n",
      "Epoch 23/30\n",
      "600/600 [==============================] - 1s 2ms/step - loss: 0.4027 - accuracy: 0.8811\n",
      "Epoch 24/30\n",
      "600/600 [==============================] - 1s 2ms/step - loss: 0.3967 - accuracy: 0.8817\n",
      "Epoch 25/30\n",
      "600/600 [==============================] - 1s 2ms/step - loss: 0.4014 - accuracy: 0.8799\n",
      "Epoch 26/30\n",
      "600/600 [==============================] - 1s 2ms/step - loss: 0.3876 - accuracy: 0.8856\n",
      "Epoch 27/30\n",
      "600/600 [==============================] - 1s 2ms/step - loss: 0.3693 - accuracy: 0.8899\n",
      "Epoch 28/30\n",
      "600/600 [==============================] - 1s 2ms/step - loss: 0.3565 - accuracy: 0.8939\n",
      "Epoch 29/30\n",
      "600/600 [==============================] - 1s 2ms/step - loss: 0.3498 - accuracy: 0.8954\n",
      "Epoch 30/30\n",
      "600/600 [==============================] - 1s 2ms/step - loss: 0.3447 - accuracy: 0.8974\n"
     ]
    },
    {
     "data": {
      "text/plain": [
       "<keras.callbacks.History at 0x1ae223f9880>"
      ]
     },
     "execution_count": 24,
     "metadata": {},
     "output_type": "execute_result"
    }
   ],
   "source": [
    "model_3.fit(X_train, y_train, epochs=30, batch_size=100)"
   ]
  },
  {
   "cell_type": "markdown",
   "metadata": {},
   "source": [
    "**Task 3.5**\n",
    "\n",
    "Evaluate the model using `model.evaluate()`."
   ]
  },
  {
   "cell_type": "code",
   "execution_count": 25,
   "metadata": {},
   "outputs": [
    {
     "name": "stdout",
     "output_type": "stream",
     "text": [
      "1000/1000 [==============================] - 1s 1ms/step - loss: 0.3628 - accuracy: 0.8958\n"
     ]
    },
    {
     "data": {
      "text/plain": [
       "[0.3627752959728241, 0.895799994468689]"
      ]
     },
     "execution_count": 25,
     "metadata": {},
     "output_type": "execute_result"
    }
   ],
   "source": [
    "model_3.evaluate(X_test, y_test, batch_size=10)"
   ]
  },
  {
   "cell_type": "markdown",
   "metadata": {},
   "source": [
    "**Bonus: Task 3.6**\n",
    "\n",
    "Find the worst prediction. If you struggle with this task, try it later."
   ]
  },
  {
   "cell_type": "code",
   "execution_count": 26,
   "metadata": {},
   "outputs": [],
   "source": [
    "# YOUR CODE HERE #"
   ]
  },
  {
   "cell_type": "markdown",
   "metadata": {},
   "source": [
    "## 4. Multi-label classification"
   ]
  },
  {
   "cell_type": "markdown",
   "metadata": {},
   "source": [
    "**The dataset**\n",
    "\n",
    "In this task you will use a simulated dataset.\n",
    "\n",
    "You are given 4 random integers ($x_1, x_2, x_3, x_4$) between -5 and 5 ($x_i \\in [-5, 5]$). Your task is to develop an MLP that predicts parity and sign of the product of these four numbers ($x_1 \\times x_2 \\times x_3 \\times x_4$).\n",
    "\n",
    "**Definitions**\n",
    "\n",
    "In mathematics, parity is the property of an integer of whether it is even or odd.\n",
    "\n",
    "In mathematics, the sign of a real number is its property of being either positive, negative, or zero.\n",
    "\n",
    "**Example**\n",
    "\n",
    "$x_1=-1, x_2=1, x_3=-3, x_4=-5$\n",
    "\n",
    "$ product = x_1 \\times x_2 \\times x_3 \\times x_4 = -15$\n",
    "\n",
    "parity of -15 is `odd` and sign of -15 is `negative`.\n",
    "\n",
    "**Columns**\n",
    "\n",
    "$x_i$: Integers between -5 (inclusive) and 5 (inclusive).\n",
    "\n",
    "Parity column: $x_1 \\times x_2 \\times x_3 \\times x_4$ is even (0) or odd (1).\n",
    "\n",
    "Sign column: $x_1 \\times x_2 \\times x_3 \\times x_4$ is negative (-1), or zero (0) or positive (1).\n",
    "\n",
    "|$x_1$|$x_2$|$x_3$|$x_4$|$Parity$|$Sign$|\n",
    "|:--|:--|:--|:--|:--|:--|\n",
    "|-2|-4|-1|1|0|-1|\n",
    "|-3|5|-3|3|1|1|\n",
    "|-4|-2|5|3|0|1|\n",
    "|-4|0|-5|0|0|0|\n",
    "|1|1|2|-4|0|-1|\n",
    "|-1|1|-3|-5|1|-1|\n"
   ]
  },
  {
   "cell_type": "code",
   "execution_count": 27,
   "metadata": {
    "code_folding": []
   },
   "outputs": [],
   "source": [
    "def simulator(n):\n",
    "    \n",
    "    # x_i numbers with shape (n, 4)\n",
    "    X = np.random.randint(-5, 6, size=(n, 4))\n",
    "\n",
    "    # product of 4 numbers for each row\n",
    "    # this will be used to calculate labels\n",
    "    # but this won't be part of the dataset\n",
    "    product = np.prod(X, axis=1)\n",
    "\n",
    "    # label 1\n",
    "    parity_col = product % 2\n",
    "    parity_col = parity_col.reshape(-1, 1)\n",
    "\n",
    "    # label 2\n",
    "    pos = (product > 0)*1\n",
    "    neg = (product < 0)*-1\n",
    "    zero = (product == 0)*0\n",
    "    sign_col = pos + neg + zero\n",
    "    sign_col = sign_col.reshape(-1, 1)\n",
    "\n",
    "    # concatenate columns to create the dataset\n",
    "    dataset = np.concatenate((X, parity_col, sign_col), axis=1)\n",
    "    \n",
    "    return dataset"
   ]
  },
  {
   "cell_type": "code",
   "execution_count": 28,
   "metadata": {},
   "outputs": [],
   "source": [
    "dataset = simulator(n=10000)"
   ]
  },
  {
   "cell_type": "code",
   "execution_count": 29,
   "metadata": {},
   "outputs": [
    {
     "data": {
      "text/html": [
       "<div>\n",
       "<style scoped>\n",
       "    .dataframe tbody tr th:only-of-type {\n",
       "        vertical-align: middle;\n",
       "    }\n",
       "\n",
       "    .dataframe tbody tr th {\n",
       "        vertical-align: top;\n",
       "    }\n",
       "\n",
       "    .dataframe thead th {\n",
       "        text-align: right;\n",
       "    }\n",
       "</style>\n",
       "<table border=\"1\" class=\"dataframe\">\n",
       "  <thead>\n",
       "    <tr style=\"text-align: right;\">\n",
       "      <th></th>\n",
       "      <th>x_1</th>\n",
       "      <th>x_2</th>\n",
       "      <th>x_3</th>\n",
       "      <th>x_4</th>\n",
       "      <th>Parity</th>\n",
       "      <th>Sign</th>\n",
       "    </tr>\n",
       "  </thead>\n",
       "  <tbody>\n",
       "    <tr>\n",
       "      <th>0</th>\n",
       "      <td>0</td>\n",
       "      <td>-1</td>\n",
       "      <td>-1</td>\n",
       "      <td>4</td>\n",
       "      <td>0</td>\n",
       "      <td>0</td>\n",
       "    </tr>\n",
       "    <tr>\n",
       "      <th>1</th>\n",
       "      <td>-2</td>\n",
       "      <td>-5</td>\n",
       "      <td>-3</td>\n",
       "      <td>-5</td>\n",
       "      <td>0</td>\n",
       "      <td>1</td>\n",
       "    </tr>\n",
       "    <tr>\n",
       "      <th>2</th>\n",
       "      <td>0</td>\n",
       "      <td>-3</td>\n",
       "      <td>0</td>\n",
       "      <td>2</td>\n",
       "      <td>0</td>\n",
       "      <td>0</td>\n",
       "    </tr>\n",
       "    <tr>\n",
       "      <th>3</th>\n",
       "      <td>-2</td>\n",
       "      <td>5</td>\n",
       "      <td>5</td>\n",
       "      <td>-4</td>\n",
       "      <td>0</td>\n",
       "      <td>1</td>\n",
       "    </tr>\n",
       "    <tr>\n",
       "      <th>4</th>\n",
       "      <td>-2</td>\n",
       "      <td>5</td>\n",
       "      <td>-1</td>\n",
       "      <td>-5</td>\n",
       "      <td>0</td>\n",
       "      <td>-1</td>\n",
       "    </tr>\n",
       "    <tr>\n",
       "      <th>5</th>\n",
       "      <td>-2</td>\n",
       "      <td>-4</td>\n",
       "      <td>-3</td>\n",
       "      <td>-5</td>\n",
       "      <td>0</td>\n",
       "      <td>1</td>\n",
       "    </tr>\n",
       "    <tr>\n",
       "      <th>6</th>\n",
       "      <td>-2</td>\n",
       "      <td>3</td>\n",
       "      <td>1</td>\n",
       "      <td>5</td>\n",
       "      <td>0</td>\n",
       "      <td>-1</td>\n",
       "    </tr>\n",
       "    <tr>\n",
       "      <th>7</th>\n",
       "      <td>-4</td>\n",
       "      <td>0</td>\n",
       "      <td>4</td>\n",
       "      <td>-1</td>\n",
       "      <td>0</td>\n",
       "      <td>0</td>\n",
       "    </tr>\n",
       "    <tr>\n",
       "      <th>8</th>\n",
       "      <td>0</td>\n",
       "      <td>1</td>\n",
       "      <td>5</td>\n",
       "      <td>-4</td>\n",
       "      <td>0</td>\n",
       "      <td>0</td>\n",
       "    </tr>\n",
       "    <tr>\n",
       "      <th>9</th>\n",
       "      <td>0</td>\n",
       "      <td>5</td>\n",
       "      <td>-5</td>\n",
       "      <td>3</td>\n",
       "      <td>0</td>\n",
       "      <td>0</td>\n",
       "    </tr>\n",
       "  </tbody>\n",
       "</table>\n",
       "</div>"
      ],
      "text/plain": [
       "   x_1  x_2  x_3  x_4  Parity  Sign\n",
       "0    0   -1   -1    4       0     0\n",
       "1   -2   -5   -3   -5       0     1\n",
       "2    0   -3    0    2       0     0\n",
       "3   -2    5    5   -4       0     1\n",
       "4   -2    5   -1   -5       0    -1\n",
       "5   -2   -4   -3   -5       0     1\n",
       "6   -2    3    1    5       0    -1\n",
       "7   -4    0    4   -1       0     0\n",
       "8    0    1    5   -4       0     0\n",
       "9    0    5   -5    3       0     0"
      ]
     },
     "execution_count": 29,
     "metadata": {},
     "output_type": "execute_result"
    }
   ],
   "source": [
    "df = pd.DataFrame(dataset, columns=['x_1', 'x_2', 'x_3', 'x_4', 'Parity', 'Sign'])\n",
    "df.head(10)"
   ]
  },
  {
   "cell_type": "markdown",
   "metadata": {},
   "source": [
    "**Task 4.1**\n",
    "\n",
    "Use the numpy array `dataset` to create `X` and `y`. Preprocess the data if needed."
   ]
  },
  {
   "cell_type": "code",
   "execution_count": 30,
   "metadata": {},
   "outputs": [
    {
     "data": {
      "text/plain": [
       "((10000, 4), (10000, 2))"
      ]
     },
     "execution_count": 30,
     "metadata": {},
     "output_type": "execute_result"
    }
   ],
   "source": [
    "X = dataset[:, 0:4]\n",
    "y = dataset[:, 4:6]\n",
    "\n",
    "X.shape, y.shape"
   ]
  },
  {
   "cell_type": "code",
   "execution_count": 31,
   "metadata": {},
   "outputs": [],
   "source": [
    "from sklearn.model_selection import train_test_split\n",
    "X_train, X_test, y_train, y_test = train_test_split(X,\n",
    "                                                    y,\n",
    "                                                    test_size=0.33,\n",
    "                                                    random_state=0)"
   ]
  },
  {
   "cell_type": "code",
   "execution_count": 32,
   "metadata": {},
   "outputs": [
    {
     "data": {
      "text/plain": [
       "((6700, 4), (6700, 2), (3300, 4), (3300, 2))"
      ]
     },
     "execution_count": 32,
     "metadata": {},
     "output_type": "execute_result"
    }
   ],
   "source": [
    "X_train.shape, y_train.shape, X_test.shape, y_test.shape"
   ]
  },
  {
   "cell_type": "markdown",
   "metadata": {},
   "source": [
    "**Task 4.2**\n",
    "\n",
    "Build a MLP suitable for this simulated dataset. Use a `Sequential()` model and `Dense` layers from Keras. Use suitable activation functions."
   ]
  },
  {
   "cell_type": "code",
   "execution_count": 33,
   "metadata": {},
   "outputs": [],
   "source": [
    "model_4 = Sequential()\n",
    "model_4.add(Dense(64, input_dim=4, activation='sigmoid'))\n",
    "model_4.add(Dense(32, activation='sigmoid'))\n",
    "model_4.add(Dense(2, activation='sigmoid'))"
   ]
  },
  {
   "cell_type": "markdown",
   "metadata": {},
   "source": [
    "**Task 4.3**\n",
    "\n",
    "Compile the model by selecting a suitable optimizer and a suitable loss function. Also include a metric or metrics."
   ]
  },
  {
   "cell_type": "code",
   "execution_count": 34,
   "metadata": {},
   "outputs": [],
   "source": [
    "model_4.compile(loss='categorical_crossentropy', optimizer='adam', metrics=[tf.keras.metrics.Accuracy()])"
   ]
  },
  {
   "cell_type": "markdown",
   "metadata": {},
   "source": [
    "**Task 4.4**\n",
    "\n",
    "Train the model on X_train, y_train and use X_test, y_test as validation data. Pick a suitable number of epochs and batch size."
   ]
  },
  {
   "cell_type": "code",
   "execution_count": 35,
   "metadata": {},
   "outputs": [
    {
     "name": "stdout",
     "output_type": "stream",
     "text": [
      "Epoch 1/30\n",
      "210/210 - 1s - loss: 0.0287 - accuracy: 0.0000e+00 - 621ms/epoch - 3ms/step\n",
      "Epoch 2/30\n",
      "210/210 - 0s - loss: 0.0130 - accuracy: 0.0000e+00 - 272ms/epoch - 1ms/step\n",
      "Epoch 3/30\n",
      "210/210 - 0s - loss: 0.0221 - accuracy: 0.0000e+00 - 265ms/epoch - 1ms/step\n",
      "Epoch 4/30\n",
      "210/210 - 0s - loss: 0.0215 - accuracy: 0.0000e+00 - 264ms/epoch - 1ms/step\n",
      "Epoch 5/30\n",
      "210/210 - 0s - loss: 0.0234 - accuracy: 0.0000e+00 - 264ms/epoch - 1ms/step\n",
      "Epoch 6/30\n",
      "210/210 - 0s - loss: 0.0250 - accuracy: 0.0000e+00 - 256ms/epoch - 1ms/step\n",
      "Epoch 7/30\n",
      "210/210 - 0s - loss: 0.0266 - accuracy: 0.0000e+00 - 256ms/epoch - 1ms/step\n",
      "Epoch 8/30\n",
      "210/210 - 0s - loss: 0.0280 - accuracy: 0.0000e+00 - 256ms/epoch - 1ms/step\n",
      "Epoch 9/30\n",
      "210/210 - 0s - loss: 0.0283 - accuracy: 0.0000e+00 - 256ms/epoch - 1ms/step\n",
      "Epoch 10/30\n",
      "210/210 - 0s - loss: 0.0294 - accuracy: 0.0000e+00 - 256ms/epoch - 1ms/step\n",
      "Epoch 11/30\n",
      "210/210 - 0s - loss: 0.0295 - accuracy: 0.0000e+00 - 256ms/epoch - 1ms/step\n",
      "Epoch 12/30\n",
      "210/210 - 0s - loss: 0.0304 - accuracy: 0.0000e+00 - 256ms/epoch - 1ms/step\n",
      "Epoch 13/30\n",
      "210/210 - 0s - loss: 0.0308 - accuracy: 0.1147 - 248ms/epoch - 1ms/step\n",
      "Epoch 14/30\n",
      "210/210 - 0s - loss: 0.0304 - accuracy: 0.6124 - 256ms/epoch - 1ms/step\n",
      "Epoch 15/30\n",
      "210/210 - 0s - loss: 0.0319 - accuracy: 0.6124 - 257ms/epoch - 1ms/step\n",
      "Epoch 16/30\n",
      "210/210 - 0s - loss: 0.0330 - accuracy: 0.6124 - 273ms/epoch - 1ms/step\n",
      "Epoch 17/30\n",
      "210/210 - 0s - loss: 0.0325 - accuracy: 0.6124 - 256ms/epoch - 1ms/step\n",
      "Epoch 18/30\n",
      "210/210 - 0s - loss: 0.0334 - accuracy: 0.6124 - 256ms/epoch - 1ms/step\n",
      "Epoch 19/30\n",
      "210/210 - 0s - loss: 0.0335 - accuracy: 0.6124 - 256ms/epoch - 1ms/step\n",
      "Epoch 20/30\n",
      "210/210 - 0s - loss: 0.0358 - accuracy: 0.6124 - 264ms/epoch - 1ms/step\n",
      "Epoch 21/30\n",
      "210/210 - 0s - loss: 0.0347 - accuracy: 0.6124 - 280ms/epoch - 1ms/step\n",
      "Epoch 22/30\n",
      "210/210 - 0s - loss: 0.0355 - accuracy: 0.6124 - 256ms/epoch - 1ms/step\n",
      "Epoch 23/30\n",
      "210/210 - 0s - loss: 0.0364 - accuracy: 0.6124 - 256ms/epoch - 1ms/step\n",
      "Epoch 24/30\n",
      "210/210 - 0s - loss: 0.0371 - accuracy: 0.6124 - 256ms/epoch - 1ms/step\n",
      "Epoch 25/30\n",
      "210/210 - 0s - loss: 0.0376 - accuracy: 0.6124 - 265ms/epoch - 1ms/step\n",
      "Epoch 26/30\n",
      "210/210 - 0s - loss: 0.0365 - accuracy: 0.6124 - 272ms/epoch - 1ms/step\n",
      "Epoch 27/30\n",
      "210/210 - 0s - loss: 0.0384 - accuracy: 0.6124 - 256ms/epoch - 1ms/step\n",
      "Epoch 28/30\n",
      "210/210 - 0s - loss: 0.0392 - accuracy: 0.6124 - 256ms/epoch - 1ms/step\n",
      "Epoch 29/30\n",
      "210/210 - 0s - loss: 0.0391 - accuracy: 0.6124 - 257ms/epoch - 1ms/step\n",
      "Epoch 30/30\n",
      "210/210 - 0s - loss: 0.0397 - accuracy: 0.6124 - 265ms/epoch - 1ms/step\n"
     ]
    },
    {
     "data": {
      "text/plain": [
       "<keras.callbacks.History at 0x1ae22391130>"
      ]
     },
     "execution_count": 35,
     "metadata": {},
     "output_type": "execute_result"
    }
   ],
   "source": [
    "model_4.fit(X_train, y_train, epochs=30, verbose=2)"
   ]
  },
  {
   "cell_type": "markdown",
   "metadata": {},
   "source": [
    "## 5. Creative Brief\n",
    "\n",
    "Now it is time to apply what you learned to your creative brief. Build, train and test an MLP model with Keras on your creative brief dataset."
   ]
  },
  {
   "cell_type": "code",
   "execution_count": 36,
   "metadata": {},
   "outputs": [],
   "source": [
    "#YOUR CODE HERE #"
   ]
  }
 ],
 "metadata": {
  "kernelspec": {
   "display_name": "base",
   "language": "python",
   "name": "python3"
  },
  "language_info": {
   "codemirror_mode": {
    "name": "ipython",
    "version": 3
   },
   "file_extension": ".py",
   "mimetype": "text/x-python",
   "name": "python",
   "nbconvert_exporter": "python",
   "pygments_lexer": "ipython3",
   "version": "3.9.16"
  },
  "vscode": {
   "interpreter": {
    "hash": "df0198c0c923084a692d9dd8837021393278b07223290056eb4ec625bff0d58b"
   }
  }
 },
 "nbformat": 4,
 "nbformat_minor": 2
}
