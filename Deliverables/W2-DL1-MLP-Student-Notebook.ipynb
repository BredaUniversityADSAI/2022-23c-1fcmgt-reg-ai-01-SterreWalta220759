{
 "cells": [
  {
   "cell_type": "code",
   "execution_count": 1,
   "metadata": {},
   "outputs": [],
   "source": [
    "import pandas as pd\n",
    "import numpy as np\n",
    "import matplotlib.pyplot as plt\n",
    "import tensorflow as tf\n",
    "from tensorflow import keras\n",
    "from keras import layers\n",
    "from keras.models import Sequential, Model\n",
    "from keras.layers import Dense\n",
    "from keras.callbacks import EarlyStopping"
   ]
  },
  {
   "cell_type": "markdown",
   "metadata": {},
   "source": [
    "Multilayer perceptron (MLP) is a fully connected, feedforward neural network architecture. It consists of one input layer, one or more hidden layers, and one output layer. Each layer consists of units (also called neurons, or nodes).\n",
    "\n",
    "Each unit is connected to every unit in a neighboring layer, hence fully connected. This is why in Keras these layers are called `Dense`. Information flows from left to right, hence feedforward.\n",
    "\n",
    "<img src=https://i.imgur.com/BMcpMsH.png width=\"800\">"
   ]
  },
  {
   "cell_type": "markdown",
   "metadata": {},
   "source": [
    "**Learning objectives**\n",
    "\n",
    "At the end of this DataLab, you will be able to build MLPs using Keras for the following problem types:\n",
    "\n",
    " - Regression\n",
    " - Binary classification\n",
    " - Multi-class classification\n",
    " - Multi-label classification\n",
    " \n",
    "For each type, you will be given a suitable dataset. Then you will:\n",
    "\n",
    " - Pre-process the data if needed\n",
    " - Create a `Sequential()` model.\n",
    " - Compile the model by defining a loss function, an optimizer and the metrics to be calculated.\n",
    " - Train the model using the `fit()` method.\n",
    " - Test the model using the `predict()` and `evaluate()` methods.\n",
    " \n",
    " \n",
    " **Notebook contents**\n",
    " \n",
    " 1. Regression\n",
    " 2. Binary classification\n",
    " 3. Multi-class classification\n",
    " 4. Multi-label classification\n",
    " 5. Creative brief"
   ]
  },
  {
   "cell_type": "markdown",
   "metadata": {},
   "source": [
    "## 1. Regression"
   ]
  },
  {
   "cell_type": "markdown",
   "metadata": {},
   "source": [
    "**The dataset**\n",
    "\n",
    "In this task, you will use the diabetes dataset provided by `scikit-learn`.\n",
    "\n",
    "Please read the dataset documentation before you start:\n",
    "\n",
    "https://scikit-learn.org/stable/datasets/toy_dataset.html#diabetes-dataset"
   ]
  },
  {
   "cell_type": "code",
   "execution_count": 2,
   "metadata": {},
   "outputs": [
    {
     "data": {
      "text/html": [
       "<div>\n",
       "<style scoped>\n",
       "    .dataframe tbody tr th:only-of-type {\n",
       "        vertical-align: middle;\n",
       "    }\n",
       "\n",
       "    .dataframe tbody tr th {\n",
       "        vertical-align: top;\n",
       "    }\n",
       "\n",
       "    .dataframe thead th {\n",
       "        text-align: right;\n",
       "    }\n",
       "</style>\n",
       "<table border=\"1\" class=\"dataframe\">\n",
       "  <thead>\n",
       "    <tr style=\"text-align: right;\">\n",
       "      <th></th>\n",
       "      <th>age</th>\n",
       "      <th>sex</th>\n",
       "      <th>bmi</th>\n",
       "      <th>bp</th>\n",
       "      <th>s1</th>\n",
       "      <th>s2</th>\n",
       "      <th>s3</th>\n",
       "      <th>s4</th>\n",
       "      <th>s5</th>\n",
       "      <th>s6</th>\n",
       "      <th>disease progression</th>\n",
       "    </tr>\n",
       "  </thead>\n",
       "  <tbody>\n",
       "    <tr>\n",
       "      <th>0</th>\n",
       "      <td>0.038076</td>\n",
       "      <td>0.050680</td>\n",
       "      <td>0.061696</td>\n",
       "      <td>0.021872</td>\n",
       "      <td>-0.044223</td>\n",
       "      <td>-0.034821</td>\n",
       "      <td>-0.043401</td>\n",
       "      <td>-0.002592</td>\n",
       "      <td>0.019908</td>\n",
       "      <td>-0.017646</td>\n",
       "      <td>151.0</td>\n",
       "    </tr>\n",
       "    <tr>\n",
       "      <th>1</th>\n",
       "      <td>-0.001882</td>\n",
       "      <td>-0.044642</td>\n",
       "      <td>-0.051474</td>\n",
       "      <td>-0.026328</td>\n",
       "      <td>-0.008449</td>\n",
       "      <td>-0.019163</td>\n",
       "      <td>0.074412</td>\n",
       "      <td>-0.039493</td>\n",
       "      <td>-0.068330</td>\n",
       "      <td>-0.092204</td>\n",
       "      <td>75.0</td>\n",
       "    </tr>\n",
       "    <tr>\n",
       "      <th>2</th>\n",
       "      <td>0.085299</td>\n",
       "      <td>0.050680</td>\n",
       "      <td>0.044451</td>\n",
       "      <td>-0.005671</td>\n",
       "      <td>-0.045599</td>\n",
       "      <td>-0.034194</td>\n",
       "      <td>-0.032356</td>\n",
       "      <td>-0.002592</td>\n",
       "      <td>0.002864</td>\n",
       "      <td>-0.025930</td>\n",
       "      <td>141.0</td>\n",
       "    </tr>\n",
       "    <tr>\n",
       "      <th>3</th>\n",
       "      <td>-0.089063</td>\n",
       "      <td>-0.044642</td>\n",
       "      <td>-0.011595</td>\n",
       "      <td>-0.036656</td>\n",
       "      <td>0.012191</td>\n",
       "      <td>0.024991</td>\n",
       "      <td>-0.036038</td>\n",
       "      <td>0.034309</td>\n",
       "      <td>0.022692</td>\n",
       "      <td>-0.009362</td>\n",
       "      <td>206.0</td>\n",
       "    </tr>\n",
       "    <tr>\n",
       "      <th>4</th>\n",
       "      <td>0.005383</td>\n",
       "      <td>-0.044642</td>\n",
       "      <td>-0.036385</td>\n",
       "      <td>0.021872</td>\n",
       "      <td>0.003935</td>\n",
       "      <td>0.015596</td>\n",
       "      <td>0.008142</td>\n",
       "      <td>-0.002592</td>\n",
       "      <td>-0.031991</td>\n",
       "      <td>-0.046641</td>\n",
       "      <td>135.0</td>\n",
       "    </tr>\n",
       "  </tbody>\n",
       "</table>\n",
       "</div>"
      ],
      "text/plain": [
       "        age       sex       bmi        bp        s1        s2        s3  \\\n",
       "0  0.038076  0.050680  0.061696  0.021872 -0.044223 -0.034821 -0.043401   \n",
       "1 -0.001882 -0.044642 -0.051474 -0.026328 -0.008449 -0.019163  0.074412   \n",
       "2  0.085299  0.050680  0.044451 -0.005671 -0.045599 -0.034194 -0.032356   \n",
       "3 -0.089063 -0.044642 -0.011595 -0.036656  0.012191  0.024991 -0.036038   \n",
       "4  0.005383 -0.044642 -0.036385  0.021872  0.003935  0.015596  0.008142   \n",
       "\n",
       "         s4        s5        s6  disease progression  \n",
       "0 -0.002592  0.019908 -0.017646                151.0  \n",
       "1 -0.039493 -0.068330 -0.092204                 75.0  \n",
       "2 -0.002592  0.002864 -0.025930                141.0  \n",
       "3  0.034309  0.022692 -0.009362                206.0  \n",
       "4 -0.002592 -0.031991 -0.046641                135.0  "
      ]
     },
     "execution_count": 2,
     "metadata": {},
     "output_type": "execute_result"
    }
   ],
   "source": [
    "from sklearn import datasets\n",
    "diabetes = datasets.load_diabetes()\n",
    "X = diabetes.data\n",
    "y = diabetes.target\n",
    "names = diabetes.feature_names\n",
    "Xy_combined = np.concatenate((X, y[:, np.newaxis]), axis=1)\n",
    "df = pd.DataFrame(Xy_combined,\n",
    "                  columns=names + ['disease progression'])\n",
    "df.head()"
   ]
  },
  {
   "cell_type": "code",
   "execution_count": 3,
   "metadata": {},
   "outputs": [],
   "source": [
    "from sklearn.model_selection import train_test_split\n",
    "X_train, X_test, y_train, y_test = train_test_split(X,\n",
    "                                                    y,\n",
    "                                                    test_size=0.33,\n",
    "                                                    random_state=0)"
   ]
  },
  {
   "cell_type": "markdown",
   "metadata": {},
   "source": [
    "**Task 1.1**\n",
    "\n",
    "Build an MLP suitable for the diabetes dataset. Use a `Sequential()` model and `Dense` layers from Keras. You are free to pick any number of hidden layers and any number of units per layer as long as it works.  Use suitable activation functions."
   ]
  },
  {
   "cell_type": "code",
   "execution_count": 4,
   "metadata": {},
   "outputs": [],
   "source": [
    "#Create a model\n",
    "model = Sequential() \n",
    "\n",
    "model.add(Dense(128, input_shape=(10,), activation='relu'))\n",
    "model.add(Dense(64, activation='relu'))\n",
    "model.add(Dense(32, activation='relu'))\n",
    "model.add(Dense(1, activation='linear'))\n"
   ]
  },
  {
   "cell_type": "markdown",
   "metadata": {},
   "source": [
    "**Task 1.2**\n",
    "Using `model.compile()`, compile the model. Select a suitable optimizer and a suitable loss function. Also include a metric or metrics."
   ]
  },
  {
   "cell_type": "code",
   "execution_count": 5,
   "metadata": {},
   "outputs": [],
   "source": [
    "model.compile(loss='mean_squared_error', optimizer='adam')"
   ]
  },
  {
   "cell_type": "markdown",
   "metadata": {},
   "source": [
    "**Task 1.3** Using `model.fit()` Train the model on X_train, y_train and use X_test, y_test as validation data. Pick a suitable number of epochs and batch size."
   ]
  },
  {
   "cell_type": "code",
   "execution_count": 6,
   "metadata": {},
   "outputs": [
    {
     "name": "stdout",
     "output_type": "stream",
     "text": [
      "Epoch 1/100\n",
      "19/19 [==============================] - 1s 12ms/step - loss: 29065.7500 - val_loss: 28760.4785\n",
      "Epoch 2/100\n",
      "19/19 [==============================] - 0s 3ms/step - loss: 28661.2070 - val_loss: 27963.7695\n",
      "Epoch 3/100\n",
      "19/19 [==============================] - 0s 3ms/step - loss: 27160.8691 - val_loss: 25218.6875\n",
      "Epoch 4/100\n",
      "19/19 [==============================] - 0s 3ms/step - loss: 22797.0508 - val_loss: 18445.2598\n",
      "Epoch 5/100\n",
      "19/19 [==============================] - 0s 3ms/step - loss: 14141.9873 - val_loss: 8288.6006\n",
      "Epoch 6/100\n",
      "19/19 [==============================] - 0s 4ms/step - loss: 5921.6421 - val_loss: 3859.9067\n",
      "Epoch 7/100\n",
      "19/19 [==============================] - 0s 4ms/step - loss: 4256.1504 - val_loss: 3658.5022\n",
      "Epoch 8/100\n",
      "19/19 [==============================] - 0s 6ms/step - loss: 3939.4851 - val_loss: 3477.5466\n",
      "Epoch 9/100\n",
      "19/19 [==============================] - 0s 4ms/step - loss: 3727.4341 - val_loss: 3374.3203\n",
      "Epoch 10/100\n",
      "19/19 [==============================] - 0s 4ms/step - loss: 3551.8281 - val_loss: 3303.6443\n",
      "Epoch 11/100\n",
      "19/19 [==============================] - 0s 3ms/step - loss: 3427.7559 - val_loss: 3227.1365\n",
      "Epoch 12/100\n",
      "19/19 [==============================] - 0s 3ms/step - loss: 3357.3767 - val_loss: 3178.9338\n",
      "Epoch 13/100\n",
      "19/19 [==============================] - 0s 3ms/step - loss: 3258.9526 - val_loss: 3129.2195\n",
      "Epoch 14/100\n",
      "19/19 [==============================] - 0s 3ms/step - loss: 3188.6130 - val_loss: 3097.4458\n",
      "Epoch 15/100\n",
      "19/19 [==============================] - 0s 3ms/step - loss: 3137.2764 - val_loss: 3073.2424\n",
      "Epoch 16/100\n",
      "19/19 [==============================] - 0s 3ms/step - loss: 3092.6509 - val_loss: 3052.3889\n",
      "Epoch 17/100\n",
      "19/19 [==============================] - 0s 3ms/step - loss: 3044.9749 - val_loss: 3039.6956\n",
      "Epoch 18/100\n",
      "19/19 [==============================] - 0s 3ms/step - loss: 3004.9585 - val_loss: 3030.8909\n",
      "Epoch 19/100\n",
      "19/19 [==============================] - 0s 3ms/step - loss: 2994.0928 - val_loss: 3019.3088\n",
      "Epoch 20/100\n",
      "19/19 [==============================] - 0s 5ms/step - loss: 2946.9431 - val_loss: 3025.9680\n",
      "Epoch 21/100\n",
      "19/19 [==============================] - 0s 5ms/step - loss: 2910.4875 - val_loss: 3021.4470\n",
      "Epoch 22/100\n",
      "19/19 [==============================] - 0s 7ms/step - loss: 2891.4458 - val_loss: 3017.3896\n",
      "Epoch 23/100\n",
      "19/19 [==============================] - 0s 3ms/step - loss: 2889.6919 - val_loss: 3020.5300\n",
      "Epoch 24/100\n",
      "19/19 [==============================] - 0s 3ms/step - loss: 2889.4685 - val_loss: 3026.0278\n",
      "Epoch 25/100\n",
      "19/19 [==============================] - 0s 3ms/step - loss: 2859.0571 - val_loss: 3025.5251\n",
      "Epoch 26/100\n",
      "19/19 [==============================] - 0s 3ms/step - loss: 2829.9038 - val_loss: 3033.1780\n",
      "Epoch 27/100\n",
      "19/19 [==============================] - 0s 3ms/step - loss: 2834.1335 - val_loss: 3039.4751\n",
      "Epoch 28/100\n",
      "19/19 [==============================] - 0s 4ms/step - loss: 2841.7344 - val_loss: 3043.3005\n",
      "Epoch 29/100\n",
      "19/19 [==============================] - 0s 4ms/step - loss: 2804.8948 - val_loss: 3061.7964\n",
      "Epoch 30/100\n",
      "19/19 [==============================] - 0s 4ms/step - loss: 2790.0598 - val_loss: 3054.4626\n",
      "Epoch 31/100\n",
      "19/19 [==============================] - 0s 5ms/step - loss: 2830.8721 - val_loss: 3056.3872\n",
      "Epoch 32/100\n",
      "19/19 [==============================] - 0s 4ms/step - loss: 2779.6433 - val_loss: 3065.1597\n",
      "Epoch 33/100\n",
      "19/19 [==============================] - 0s 4ms/step - loss: 2783.3352 - val_loss: 3059.7676\n",
      "Epoch 34/100\n",
      "19/19 [==============================] - 0s 3ms/step - loss: 2796.3274 - val_loss: 3067.1345\n",
      "Epoch 35/100\n",
      "19/19 [==============================] - 0s 4ms/step - loss: 2784.5159 - val_loss: 3078.3394\n",
      "Epoch 36/100\n",
      "19/19 [==============================] - 0s 3ms/step - loss: 2786.1516 - val_loss: 3073.6211\n",
      "Epoch 37/100\n",
      "19/19 [==============================] - 0s 3ms/step - loss: 2777.6685 - val_loss: 3078.0347\n",
      "Epoch 38/100\n",
      "19/19 [==============================] - 0s 3ms/step - loss: 2752.1150 - val_loss: 3084.2305\n",
      "Epoch 39/100\n",
      "19/19 [==============================] - 0s 3ms/step - loss: 2770.6309 - val_loss: 3091.1431\n",
      "Epoch 40/100\n",
      "19/19 [==============================] - 0s 3ms/step - loss: 2773.8599 - val_loss: 3103.6289\n",
      "Epoch 41/100\n",
      "19/19 [==============================] - 0s 3ms/step - loss: 2757.3962 - val_loss: 3091.5796\n",
      "Epoch 42/100\n",
      "19/19 [==============================] - 0s 3ms/step - loss: 2750.4944 - val_loss: 3096.8623\n",
      "Epoch 43/100\n",
      "19/19 [==============================] - 0s 3ms/step - loss: 2744.6294 - val_loss: 3099.8398\n",
      "Epoch 44/100\n",
      "19/19 [==============================] - 0s 3ms/step - loss: 2753.8494 - val_loss: 3099.6123\n",
      "Epoch 45/100\n",
      "19/19 [==============================] - 0s 3ms/step - loss: 2774.8545 - val_loss: 3112.6638\n",
      "Epoch 46/100\n",
      "19/19 [==============================] - 0s 4ms/step - loss: 2738.8577 - val_loss: 3097.0876\n",
      "Epoch 47/100\n",
      "19/19 [==============================] - 0s 4ms/step - loss: 2743.4836 - val_loss: 3103.3877\n",
      "Epoch 48/100\n",
      "19/19 [==============================] - 0s 3ms/step - loss: 2720.4175 - val_loss: 3109.4512\n",
      "Epoch 49/100\n",
      "19/19 [==============================] - 0s 3ms/step - loss: 2699.9524 - val_loss: 3106.6074\n",
      "Epoch 50/100\n",
      "19/19 [==============================] - 0s 3ms/step - loss: 2723.6240 - val_loss: 3114.9521\n",
      "Epoch 51/100\n",
      "19/19 [==============================] - 0s 3ms/step - loss: 2712.3149 - val_loss: 3105.5925\n",
      "Epoch 52/100\n",
      "19/19 [==============================] - 0s 3ms/step - loss: 2713.1694 - val_loss: 3116.0283\n",
      "Epoch 53/100\n",
      "19/19 [==============================] - 0s 3ms/step - loss: 2718.4087 - val_loss: 3107.5435\n",
      "Epoch 54/100\n",
      "19/19 [==============================] - 0s 3ms/step - loss: 2710.2375 - val_loss: 3113.1201\n",
      "Epoch 55/100\n",
      "19/19 [==============================] - 0s 3ms/step - loss: 2713.3809 - val_loss: 3101.9495\n",
      "Epoch 56/100\n",
      "19/19 [==============================] - 0s 3ms/step - loss: 2685.6626 - val_loss: 3107.1157\n",
      "Epoch 57/100\n",
      "19/19 [==============================] - 0s 4ms/step - loss: 2683.6055 - val_loss: 3097.2427\n",
      "Epoch 58/100\n",
      "19/19 [==============================] - 0s 3ms/step - loss: 2681.7732 - val_loss: 3115.6084\n",
      "Epoch 59/100\n",
      "19/19 [==============================] - 0s 3ms/step - loss: 2679.1306 - val_loss: 3103.2866\n",
      "Epoch 60/100\n",
      "19/19 [==============================] - 0s 3ms/step - loss: 2672.8049 - val_loss: 3108.4849\n",
      "Epoch 61/100\n",
      "19/19 [==============================] - 0s 3ms/step - loss: 2663.2505 - val_loss: 3109.9128\n",
      "Epoch 62/100\n",
      "19/19 [==============================] - 0s 3ms/step - loss: 2661.8933 - val_loss: 3118.2942\n",
      "Epoch 63/100\n",
      "19/19 [==============================] - 0s 3ms/step - loss: 2650.0435 - val_loss: 3105.8708\n",
      "Epoch 64/100\n",
      "19/19 [==============================] - 0s 3ms/step - loss: 2656.3674 - val_loss: 3117.9087\n",
      "Epoch 65/100\n",
      "19/19 [==============================] - 0s 3ms/step - loss: 2667.7871 - val_loss: 3119.1675\n",
      "Epoch 66/100\n",
      "19/19 [==============================] - 0s 3ms/step - loss: 2647.7185 - val_loss: 3114.2139\n",
      "Epoch 67/100\n",
      "19/19 [==============================] - 0s 3ms/step - loss: 2642.5461 - val_loss: 3109.3455\n",
      "Epoch 68/100\n",
      "19/19 [==============================] - 0s 3ms/step - loss: 2642.8384 - val_loss: 3103.4055\n",
      "Epoch 69/100\n",
      "19/19 [==============================] - 0s 4ms/step - loss: 2634.9678 - val_loss: 3113.0916\n",
      "Epoch 70/100\n",
      "19/19 [==============================] - 0s 3ms/step - loss: 2644.9587 - val_loss: 3115.5532\n",
      "Epoch 71/100\n",
      "19/19 [==============================] - 0s 3ms/step - loss: 2645.1599 - val_loss: 3105.5442\n",
      "Epoch 72/100\n",
      "19/19 [==============================] - 0s 3ms/step - loss: 2635.2695 - val_loss: 3107.9014\n",
      "Epoch 73/100\n",
      "19/19 [==============================] - 0s 3ms/step - loss: 2633.4658 - val_loss: 3102.7678\n",
      "Epoch 74/100\n",
      "19/19 [==============================] - 0s 3ms/step - loss: 2630.0383 - val_loss: 3098.9580\n",
      "Epoch 75/100\n",
      "19/19 [==============================] - 0s 3ms/step - loss: 2614.6741 - val_loss: 3102.2517\n",
      "Epoch 76/100\n",
      "19/19 [==============================] - 0s 3ms/step - loss: 2619.1726 - val_loss: 3102.5249\n",
      "Epoch 77/100\n",
      "19/19 [==============================] - 0s 3ms/step - loss: 2624.4636 - val_loss: 3104.4001\n",
      "Epoch 78/100\n",
      "19/19 [==============================] - 0s 3ms/step - loss: 2630.0110 - val_loss: 3102.7439\n",
      "Epoch 79/100\n",
      "19/19 [==============================] - 0s 3ms/step - loss: 2624.6570 - val_loss: 3095.9263\n",
      "Epoch 80/100\n",
      "19/19 [==============================] - 0s 3ms/step - loss: 2611.4539 - val_loss: 3102.7717\n",
      "Epoch 81/100\n",
      "19/19 [==============================] - 0s 4ms/step - loss: 2592.8569 - val_loss: 3103.3269\n",
      "Epoch 82/100\n",
      "19/19 [==============================] - 0s 3ms/step - loss: 2595.2456 - val_loss: 3099.7207\n",
      "Epoch 83/100\n",
      "19/19 [==============================] - 0s 3ms/step - loss: 2605.7588 - val_loss: 3101.0864\n",
      "Epoch 84/100\n",
      "19/19 [==============================] - 0s 3ms/step - loss: 2587.4141 - val_loss: 3108.5566\n",
      "Epoch 85/100\n",
      "19/19 [==============================] - 0s 3ms/step - loss: 2583.9688 - val_loss: 3098.4475\n",
      "Epoch 86/100\n",
      "19/19 [==============================] - 0s 3ms/step - loss: 2583.0571 - val_loss: 3090.2427\n",
      "Epoch 87/100\n",
      "19/19 [==============================] - 0s 3ms/step - loss: 2581.4292 - val_loss: 3107.1016\n",
      "Epoch 88/100\n",
      "19/19 [==============================] - 0s 3ms/step - loss: 2584.5564 - val_loss: 3097.2456\n",
      "Epoch 89/100\n",
      "19/19 [==============================] - 0s 3ms/step - loss: 2565.7275 - val_loss: 3116.2817\n",
      "Epoch 90/100\n",
      "19/19 [==============================] - 0s 3ms/step - loss: 2580.0803 - val_loss: 3097.6763\n",
      "Epoch 91/100\n",
      "19/19 [==============================] - 0s 3ms/step - loss: 2628.0188 - val_loss: 3106.0791\n",
      "Epoch 92/100\n",
      "19/19 [==============================] - 0s 3ms/step - loss: 2584.6648 - val_loss: 3102.6389\n",
      "Epoch 93/100\n",
      "19/19 [==============================] - 0s 5ms/step - loss: 2570.3491 - val_loss: 3119.2825\n",
      "Epoch 94/100\n",
      "19/19 [==============================] - 0s 3ms/step - loss: 2561.2485 - val_loss: 3104.1089\n",
      "Epoch 95/100\n",
      "19/19 [==============================] - 0s 3ms/step - loss: 2554.9905 - val_loss: 3101.6067\n",
      "Epoch 96/100\n",
      "19/19 [==============================] - 0s 3ms/step - loss: 2577.2664 - val_loss: 3098.8357\n",
      "Epoch 97/100\n",
      "19/19 [==============================] - 0s 3ms/step - loss: 2567.8057 - val_loss: 3103.0994\n",
      "Epoch 98/100\n",
      "19/19 [==============================] - 0s 3ms/step - loss: 2566.6255 - val_loss: 3103.5142\n",
      "Epoch 99/100\n",
      "19/19 [==============================] - 0s 3ms/step - loss: 2585.5615 - val_loss: 3097.7659\n",
      "Epoch 100/100\n",
      "19/19 [==============================] - 0s 3ms/step - loss: 2549.9739 - val_loss: 3113.1497\n"
     ]
    }
   ],
   "source": [
    "history = model.fit(X_train, y_train, epochs=100, batch_size=16, validation_data=(X_test, y_test))"
   ]
  },
  {
   "cell_type": "markdown",
   "metadata": {},
   "source": [
    "**Task 1.4** Evaluate the model using `model.evaluate()`."
   ]
  },
  {
   "cell_type": "code",
   "execution_count": 7,
   "metadata": {},
   "outputs": [
    {
     "name": "stdout",
     "output_type": "stream",
     "text": [
      "5/5 [==============================] - 0s 2ms/step - loss: 3113.1499\n"
     ]
    },
    {
     "data": {
      "text/plain": [
       "3113.14990234375"
      ]
     },
     "execution_count": 7,
     "metadata": {},
     "output_type": "execute_result"
    }
   ],
   "source": [
    "model.evaluate(X_test, y_test)"
   ]
  },
  {
   "cell_type": "markdown",
   "metadata": {},
   "source": [
    "**Task 1.5** Get predictions on `X_test`. Plot `y_test` vs. predictions. On the same plot, plot a $x = y$ line. Think about what this line represents."
   ]
  },
  {
   "cell_type": "code",
   "execution_count": 8,
   "metadata": {},
   "outputs": [
    {
     "name": "stdout",
     "output_type": "stream",
     "text": [
      "5/5 [==============================] - 0s 2ms/step\n"
     ]
    }
   ],
   "source": [
    "y_pred = model.predict(X_test)"
   ]
  },
  {
   "cell_type": "code",
   "execution_count": 9,
   "metadata": {},
   "outputs": [
    {
     "name": "stdout",
     "output_type": "stream",
     "text": [
      "5/5 [==============================] - 0s 2ms/step\n"
     ]
    },
    {
     "data": {
      "image/png": "[encoded data removed]",
      "text/plain": [
       "<Figure size 640x480 with 2 Axes>"
      ]
     },
     "metadata": {},
     "output_type": "display_data"
    }
   ],
   "source": [
    "y_preds = model.predict(X_test)\n",
    "\n",
    "#plot the predictions vs the true values\n",
    "colors = y_preds \n",
    "plt.scatter(y_test, y_preds, c=colors, cmap='viridis', vmin=0, vmax=350)\n",
    "plt.colorbar()\n",
    "plt.plot([0, 350], [0, 350], '--', color='red')\n",
    "plt.xlabel('True Values')\n",
    "plt.ylabel('Predictions') \n",
    "plt.grid() "
   ]
  },
  {
   "cell_type": "markdown",
   "metadata": {},
   "source": [
    "## 2. Binary classification"
   ]
  },
  {
   "cell_type": "markdown",
   "metadata": {},
   "source": [
    "**The dataset**\n",
    "\n",
    "In this task, you will use the breast cancer dataset provided by `scikit-learn`.\n",
    "\n",
    "Please read the dataset documentation before you start:\n",
    "\n",
    "https://scikit-learn.org/stable/datasets/toy_dataset.html#breast-cancer-dataset"
   ]
  },
  {
   "cell_type": "code",
   "execution_count": 10,
   "metadata": {},
   "outputs": [
    {
     "data": {
      "text/html": [
       "<div>\n",
       "<style scoped>\n",
       "    .dataframe tbody tr th:only-of-type {\n",
       "        vertical-align: middle;\n",
       "    }\n",
       "\n",
       "    .dataframe tbody tr th {\n",
       "        vertical-align: top;\n",
       "    }\n",
       "\n",
       "    .dataframe thead th {\n",
       "        text-align: right;\n",
       "    }\n",
       "</style>\n",
       "<table border=\"1\" class=\"dataframe\">\n",
       "  <thead>\n",
       "    <tr style=\"text-align: right;\">\n",
       "      <th></th>\n",
       "      <th>mean radius</th>\n",
       "      <th>mean texture</th>\n",
       "      <th>mean perimeter</th>\n",
       "      <th>mean area</th>\n",
       "      <th>mean smoothness</th>\n",
       "      <th>mean compactness</th>\n",
       "      <th>mean concavity</th>\n",
       "      <th>mean concave points</th>\n",
       "      <th>mean symmetry</th>\n",
       "      <th>mean fractal dimension</th>\n",
       "      <th>...</th>\n",
       "      <th>worst texture</th>\n",
       "      <th>worst perimeter</th>\n",
       "      <th>worst area</th>\n",
       "      <th>worst smoothness</th>\n",
       "      <th>worst compactness</th>\n",
       "      <th>worst concavity</th>\n",
       "      <th>worst concave points</th>\n",
       "      <th>worst symmetry</th>\n",
       "      <th>worst fractal dimension</th>\n",
       "      <th>Benign</th>\n",
       "    </tr>\n",
       "  </thead>\n",
       "  <tbody>\n",
       "    <tr>\n",
       "      <th>0</th>\n",
       "      <td>17.99</td>\n",
       "      <td>10.38</td>\n",
       "      <td>122.80</td>\n",
       "      <td>1001.0</td>\n",
       "      <td>0.11840</td>\n",
       "      <td>0.27760</td>\n",
       "      <td>0.3001</td>\n",
       "      <td>0.14710</td>\n",
       "      <td>0.2419</td>\n",
       "      <td>0.07871</td>\n",
       "      <td>...</td>\n",
       "      <td>17.33</td>\n",
       "      <td>184.60</td>\n",
       "      <td>2019.0</td>\n",
       "      <td>0.1622</td>\n",
       "      <td>0.6656</td>\n",
       "      <td>0.7119</td>\n",
       "      <td>0.2654</td>\n",
       "      <td>0.4601</td>\n",
       "      <td>0.11890</td>\n",
       "      <td>0.0</td>\n",
       "    </tr>\n",
       "    <tr>\n",
       "      <th>1</th>\n",
       "      <td>20.57</td>\n",
       "      <td>17.77</td>\n",
       "      <td>132.90</td>\n",
       "      <td>1326.0</td>\n",
       "      <td>0.08474</td>\n",
       "      <td>0.07864</td>\n",
       "      <td>0.0869</td>\n",
       "      <td>0.07017</td>\n",
       "      <td>0.1812</td>\n",
       "      <td>0.05667</td>\n",
       "      <td>...</td>\n",
       "      <td>23.41</td>\n",
       "      <td>158.80</td>\n",
       "      <td>1956.0</td>\n",
       "      <td>0.1238</td>\n",
       "      <td>0.1866</td>\n",
       "      <td>0.2416</td>\n",
       "      <td>0.1860</td>\n",
       "      <td>0.2750</td>\n",
       "      <td>0.08902</td>\n",
       "      <td>0.0</td>\n",
       "    </tr>\n",
       "    <tr>\n",
       "      <th>2</th>\n",
       "      <td>19.69</td>\n",
       "      <td>21.25</td>\n",
       "      <td>130.00</td>\n",
       "      <td>1203.0</td>\n",
       "      <td>0.10960</td>\n",
       "      <td>0.15990</td>\n",
       "      <td>0.1974</td>\n",
       "      <td>0.12790</td>\n",
       "      <td>0.2069</td>\n",
       "      <td>0.05999</td>\n",
       "      <td>...</td>\n",
       "      <td>25.53</td>\n",
       "      <td>152.50</td>\n",
       "      <td>1709.0</td>\n",
       "      <td>0.1444</td>\n",
       "      <td>0.4245</td>\n",
       "      <td>0.4504</td>\n",
       "      <td>0.2430</td>\n",
       "      <td>0.3613</td>\n",
       "      <td>0.08758</td>\n",
       "      <td>0.0</td>\n",
       "    </tr>\n",
       "    <tr>\n",
       "      <th>3</th>\n",
       "      <td>11.42</td>\n",
       "      <td>20.38</td>\n",
       "      <td>77.58</td>\n",
       "      <td>386.1</td>\n",
       "      <td>0.14250</td>\n",
       "      <td>0.28390</td>\n",
       "      <td>0.2414</td>\n",
       "      <td>0.10520</td>\n",
       "      <td>0.2597</td>\n",
       "      <td>0.09744</td>\n",
       "      <td>...</td>\n",
       "      <td>26.50</td>\n",
       "      <td>98.87</td>\n",
       "      <td>567.7</td>\n",
       "      <td>0.2098</td>\n",
       "      <td>0.8663</td>\n",
       "      <td>0.6869</td>\n",
       "      <td>0.2575</td>\n",
       "      <td>0.6638</td>\n",
       "      <td>0.17300</td>\n",
       "      <td>0.0</td>\n",
       "    </tr>\n",
       "    <tr>\n",
       "      <th>4</th>\n",
       "      <td>20.29</td>\n",
       "      <td>14.34</td>\n",
       "      <td>135.10</td>\n",
       "      <td>1297.0</td>\n",
       "      <td>0.10030</td>\n",
       "      <td>0.13280</td>\n",
       "      <td>0.1980</td>\n",
       "      <td>0.10430</td>\n",
       "      <td>0.1809</td>\n",
       "      <td>0.05883</td>\n",
       "      <td>...</td>\n",
       "      <td>16.67</td>\n",
       "      <td>152.20</td>\n",
       "      <td>1575.0</td>\n",
       "      <td>0.1374</td>\n",
       "      <td>0.2050</td>\n",
       "      <td>0.4000</td>\n",
       "      <td>0.1625</td>\n",
       "      <td>0.2364</td>\n",
       "      <td>0.07678</td>\n",
       "      <td>0.0</td>\n",
       "    </tr>\n",
       "  </tbody>\n",
       "</table>\n",
       "<p>5 rows × 31 columns</p>\n",
       "</div>"
      ],
      "text/plain": [
       "   mean radius  mean texture  mean perimeter  mean area  mean smoothness  \\\n",
       "0        17.99         10.38          122.80     1001.0          0.11840   \n",
       "1        20.57         17.77          132.90     1326.0          0.08474   \n",
       "2        19.69         21.25          130.00     1203.0          0.10960   \n",
       "3        11.42         20.38           77.58      386.1          0.14250   \n",
       "4        20.29         14.34          135.10     1297.0          0.10030   \n",
       "\n",
       "   mean compactness  mean concavity  mean concave points  mean symmetry  \\\n",
       "0           0.27760          0.3001              0.14710         0.2419   \n",
       "1           0.07864          0.0869              0.07017         0.1812   \n",
       "2           0.15990          0.1974              0.12790         0.2069   \n",
       "3           0.28390          0.2414              0.10520         0.2597   \n",
       "4           0.13280          0.1980              0.10430         0.1809   \n",
       "\n",
       "   mean fractal dimension  ...  worst texture  worst perimeter  worst area  \\\n",
       "0                 0.07871  ...          17.33           184.60      2019.0   \n",
       "1                 0.05667  ...          23.41           158.80      1956.0   \n",
       "2                 0.05999  ...          25.53           152.50      1709.0   \n",
       "3                 0.09744  ...          26.50            98.87       567.7   \n",
       "4                 0.05883  ...          16.67           152.20      1575.0   \n",
       "\n",
       "   worst smoothness  worst compactness  worst concavity  worst concave points  \\\n",
       "0            0.1622             0.6656           0.7119                0.2654   \n",
       "1            0.1238             0.1866           0.2416                0.1860   \n",
       "2            0.1444             0.4245           0.4504                0.2430   \n",
       "3            0.2098             0.8663           0.6869                0.2575   \n",
       "4            0.1374             0.2050           0.4000                0.1625   \n",
       "\n",
       "   worst symmetry  worst fractal dimension  Benign  \n",
       "0          0.4601                  0.11890     0.0  \n",
       "1          0.2750                  0.08902     0.0  \n",
       "2          0.3613                  0.08758     0.0  \n",
       "3          0.6638                  0.17300     0.0  \n",
       "4          0.2364                  0.07678     0.0  \n",
       "\n",
       "[5 rows x 31 columns]"
      ]
     },
     "execution_count": 10,
     "metadata": {},
     "output_type": "execute_result"
    }
   ],
   "source": [
    "from sklearn.datasets import load_breast_cancer\n",
    "cancer = load_breast_cancer()\n",
    "X = cancer.data\n",
    "y = cancer.target\n",
    "names = list(cancer.feature_names)\n",
    "Xy_combined = np.concatenate((X, y[:, np.newaxis]), axis=1)\n",
    "df = pd.DataFrame(Xy_combined,\n",
    "                  columns=names + ['Benign'])\n",
    "df.head()"
   ]
  },
  {
   "cell_type": "code",
   "execution_count": 11,
   "metadata": {},
   "outputs": [],
   "source": [
    "from sklearn.model_selection import train_test_split\n",
    "X_train, X_test, y_train, y_test = train_test_split(X,\n",
    "                                                    y,\n",
    "                                                    test_size=0.33,\n",
    "                                                    random_state=0)"
   ]
  },
  {
   "cell_type": "code",
   "execution_count": 12,
   "metadata": {},
   "outputs": [
    {
     "data": {
      "text/plain": [
       "((381, 30), (188, 30), (381,), (188,))"
      ]
     },
     "execution_count": 12,
     "metadata": {},
     "output_type": "execute_result"
    }
   ],
   "source": [
    "X_train.shape, X_test.shape, y_train.shape, y_test.shape"
   ]
  },
  {
   "cell_type": "markdown",
   "metadata": {},
   "source": [
    "**Task 2.1**\n",
    "\n",
    "Build an MLP suitable for the breast cancer dataset. Use a `Sequential()` model and `Dense` layers from Keras. You are free to pick any number of hidden layers and any number of units per layer as long as it works. Use suitable activation functions."
   ]
  },
  {
   "cell_type": "code",
   "execution_count": 13,
   "metadata": {},
   "outputs": [
    {
     "name": "stdout",
     "output_type": "stream",
     "text": [
      "Model: \"sequential_1\"\n",
      "_________________________________________________________________\n",
      " Layer (type)                Output Shape              Param #   \n",
      "=================================================================\n",
      " dense_4 (Dense)             (None, 128)               3968      \n",
      "                                                                 \n",
      " dense_5 (Dense)             (None, 64)                8256      \n",
      "                                                                 \n",
      " dense_6 (Dense)             (None, 32)                2080      \n",
      "                                                                 \n",
      " dense_7 (Dense)             (None, 1)                 33        \n",
      "                                                                 \n",
      "=================================================================\n",
      "Total params: 14,337\n",
      "Trainable params: 14,337\n",
      "Non-trainable params: 0\n",
      "_________________________________________________________________\n"
     ]
    }
   ],
   "source": [
    "#Create a model\n",
    "model2 = Sequential()\n",
    "\n",
    "#Add layers to the model\n",
    "model2.add(Dense(128, input_shape=(30,), activation='relu')) \n",
    "model2.add(Dense(64, activation='relu')) \n",
    "model2.add(Dense(32, activation='relu')) \n",
    "model2.add(Dense(1, activation='sigmoid')) \n",
    "\n",
    "#model2.summary()\n",
    "model2.summary()\n"
   ]
  },
  {
   "cell_type": "markdown",
   "metadata": {},
   "source": [
    "**Task 2.2**\n",
    "\n",
    "Compile the model by selecting a suitable optimizer and a suitable loss function. Also include a metric or metrics."
   ]
  },
  {
   "cell_type": "code",
   "execution_count": 14,
   "metadata": {},
   "outputs": [],
   "source": [
    "model2.compile(optimizer='adam', loss='binary_crossentropy', metrics = [\"accuracy\"])"
   ]
  },
  {
   "cell_type": "markdown",
   "metadata": {},
   "source": [
    "**Task 2.3**\n",
    "\n",
    "Train the model on X_train, y_train and use X_test, y_test as validation data. Pick a suitable number of epochs and batch size."
   ]
  },
  {
   "cell_type": "code",
   "execution_count": 15,
   "metadata": {},
   "outputs": [
    {
     "name": "stdout",
     "output_type": "stream",
     "text": [
      "Epoch 1/5\n",
      "13/13 [==============================] - 1s 17ms/step - loss: 38.3270 - accuracy: 0.5407 - val_loss: 12.3010 - val_accuracy: 0.3564\n",
      "Epoch 2/5\n",
      "13/13 [==============================] - 0s 4ms/step - loss: 4.6499 - accuracy: 0.5879 - val_loss: 3.6171 - val_accuracy: 0.3564\n",
      "Epoch 3/5\n",
      "13/13 [==============================] - 0s 5ms/step - loss: 2.0871 - accuracy: 0.6719 - val_loss: 2.0937 - val_accuracy: 0.4681\n",
      "Epoch 4/5\n",
      "13/13 [==============================] - 0s 5ms/step - loss: 1.2490 - accuracy: 0.7900 - val_loss: 0.6713 - val_accuracy: 0.8085\n",
      "Epoch 5/5\n",
      "13/13 [==============================] - 0s 5ms/step - loss: 0.7183 - accuracy: 0.8215 - val_loss: 0.4569 - val_accuracy: 0.8723\n"
     ]
    }
   ],
   "source": [
    "history2 = model2.fit(X_train, y_train, batch_size=30, epochs = 5, validation_data=(X_test, y_test))\n"
   ]
  },
  {
   "cell_type": "markdown",
   "metadata": {},
   "source": [
    "**Task 2.4**\n",
    "\n",
    "Evaluate the model using `model.evaluate()`."
   ]
  },
  {
   "cell_type": "code",
   "execution_count": 16,
   "metadata": {},
   "outputs": [
    {
     "name": "stdout",
     "output_type": "stream",
     "text": [
      "188/188 [==============================] - 0s 2ms/step - loss: 0.4569 - accuracy: 0.8723\n"
     ]
    },
    {
     "data": {
      "text/plain": [
       "[0.45687416195869446, 0.8723404407501221]"
      ]
     },
     "execution_count": 16,
     "metadata": {},
     "output_type": "execute_result"
    }
   ],
   "source": [
    "model2.evaluate(X_test, y_test, batch_size=1)"
   ]
  },
  {
   "cell_type": "markdown",
   "metadata": {},
   "source": [
    "**Task 2.5**\n",
    "\n",
    "Plot the confusion matrix for your trained model on the test set."
   ]
  },
  {
   "cell_type": "code",
   "execution_count": 17,
   "metadata": {},
   "outputs": [
    {
     "name": "stdout",
     "output_type": "stream",
     "text": [
      "6/6 [==============================] - 0s 2ms/step\n"
     ]
    },
    {
     "data": {
      "text/plain": [
       "<AxesSubplot: >"
      ]
     },
     "execution_count": 17,
     "metadata": {},
     "output_type": "execute_result"
    },
    {
     "data": {
      "image/png": "[encoded data removed]",
      "text/plain": [
       "<Figure size 1000x700 with 2 Axes>"
      ]
     },
     "metadata": {},
     "output_type": "display_data"
    }
   ],
   "source": [
    "from sklearn.metrics import confusion_matrix\n",
    "import seaborn as sns\n",
    "\n",
    "y_pred = model2.predict(X_test)\n",
    "y_pred = np.round(y_pred)\n",
    "\n",
    "cm = confusion_matrix(y_test, y_pred)\n",
    "\n",
    "plt.figure(figsize=(10,7))\n",
    "plt.xlabel('Predicted')\n",
    "plt.ylabel('True')\n",
    "\n",
    "sns.heatmap(cm, annot=True, fmt='d', cmap='Blues')"
   ]
  },
  {
   "cell_type": "markdown",
   "metadata": {},
   "source": [
    "## 3. Multi-class classification"
   ]
  },
  {
   "cell_type": "markdown",
   "metadata": {},
   "source": [
    "**The dataset**\n",
    "\n",
    "In this task, you will use the MNIST dataset provided by `keras`.\n",
    "\n",
    "Please read the dataset documentation before you start:\n",
    "\n",
    "https://keras.io/api/datasets/mnist/"
   ]
  },
  {
   "cell_type": "code",
   "execution_count": 18,
   "metadata": {},
   "outputs": [],
   "source": [
    "from keras.datasets import mnist\n",
    "(X_train, y_train), (X_test, y_test) = mnist.load_data()"
   ]
  },
  {
   "cell_type": "code",
   "execution_count": 19,
   "metadata": {},
   "outputs": [
    {
     "name": "stdout",
     "output_type": "stream",
     "text": [
      "Label: 9\n"
     ]
    },
    {
     "data": {
      "image/png": "[encoded data removed]",
      "text/plain": [
       "<Figure size 640x480 with 1 Axes>"
      ]
     },
     "metadata": {},
     "output_type": "display_data"
    }
   ],
   "source": [
    "# View random digit\n",
    "index = np.random.randint(0, 60000)\n",
    "plt.imshow(X_train[index])\n",
    "print('Label:', y_train[index])"
   ]
  },
  {
   "cell_type": "code",
   "execution_count": 20,
   "metadata": {},
   "outputs": [
    {
     "data": {
      "text/plain": [
       "((60000, 28, 28), (10000, 28, 28), (60000,), (10000,))"
      ]
     },
     "execution_count": 20,
     "metadata": {},
     "output_type": "execute_result"
    }
   ],
   "source": [
    "X_train.shape, X_test.shape, y_train.shape, y_test.shape"
   ]
  },
  {
   "cell_type": "markdown",
   "metadata": {},
   "source": [
    "**Task 3.1**\n",
    "\n",
    "The MLP architecture you will build is given below. 784 input units, two hidden layers with 30 units each, one output layer with 10 units. Notice that X_train shape and input layer shape are not compatible. Similary, y_train and the output layer shape, are not compatible. Preprocess the data to make them compatible. Same is true for the test data.\n",
    "\n",
    "<img src=https://i.imgur.com/OFNAslJ.png width=\"500\">\n",
    "\n"
   ]
  },
  {
   "cell_type": "code",
   "execution_count": 21,
   "metadata": {},
   "outputs": [],
   "source": [
    "from keras.utils import to_categorical\n",
    "X_train = X_train.reshape(60000, 784)\n",
    "X_test = X_test.reshape(10000, 784)\n",
    "y_train = to_categorical(y_train, num_classes=10)\n",
    "y_test = to_categorical(y_test, num_classes=10)\n",
    "\n",
    "X_train = X_train.astype('float32')\n",
    "X_test = X_test.astype('float32')\n",
    "y_train = y_train.astype('float32')\n",
    "y_test = y_test.astype('float32')\n"
   ]
  },
  {
   "cell_type": "markdown",
   "metadata": {},
   "source": [
    "**Task 3.2**\n",
    "\n",
    "Build an MLP suitable for the MNIST dataset. Use a `Sequential()` model and `Dense` layers from Keras. Build the architecture shown in Task 3.1 Use suitable activation functions."
   ]
  },
  {
   "cell_type": "code",
   "execution_count": 22,
   "metadata": {},
   "outputs": [],
   "source": [
    "model_3 = Sequential()\n",
    "model_3.add(Dense(10, input_dim=784, activation='relu'))\n",
    "model_3.add(Dense(10, activation='relu'))\n",
    "model_3.add(Dense(10, activation='softmax'))"
   ]
  },
  {
   "cell_type": "markdown",
   "metadata": {},
   "source": [
    "**Task 3.3**\n",
    "\n",
    "Compile the model by selecting a suitable optimizer and a suitable loss function. Also include a metric or metrics."
   ]
  },
  {
   "cell_type": "code",
   "execution_count": 23,
   "metadata": {},
   "outputs": [],
   "source": [
    "model_3.compile(loss='categorical_crossentropy', optimizer='adam', metrics=['accuracy'])"
   ]
  },
  {
   "cell_type": "markdown",
   "metadata": {},
   "source": [
    "**Task 3.4**\n",
    "\n",
    "Train the model on X_train, y_train and use X_test, y_test as validation data. Pick a suitable number of epochs and batch size."
   ]
  },
  {
   "cell_type": "code",
   "execution_count": 24,
   "metadata": {},
   "outputs": [
    {
     "name": "stdout",
     "output_type": "stream",
     "text": [
      "Epoch 1/10\n",
      "1875/1875 [==============================] - 4s 2ms/step - loss: 2.3571 - accuracy: 0.1106 - val_loss: 2.3028 - val_accuracy: 0.1136\n",
      "Epoch 2/10\n",
      "1875/1875 [==============================] - 4s 2ms/step - loss: 2.3020 - accuracy: 0.1124 - val_loss: 2.3010 - val_accuracy: 0.1135\n",
      "Epoch 3/10\n",
      "1875/1875 [==============================] - 4s 2ms/step - loss: 2.3013 - accuracy: 0.1124 - val_loss: 2.3013 - val_accuracy: 0.1135\n",
      "Epoch 4/10\n",
      "1875/1875 [==============================] - 3s 2ms/step - loss: 2.3014 - accuracy: 0.1124 - val_loss: 2.3012 - val_accuracy: 0.1135\n",
      "Epoch 5/10\n",
      "1875/1875 [==============================] - 4s 2ms/step - loss: 2.3013 - accuracy: 0.1124 - val_loss: 2.3011 - val_accuracy: 0.1135\n",
      "Epoch 6/10\n",
      "1875/1875 [==============================] - 4s 2ms/step - loss: 2.3014 - accuracy: 0.1124 - val_loss: 2.3011 - val_accuracy: 0.1135\n",
      "Epoch 7/10\n",
      "1875/1875 [==============================] - 3s 2ms/step - loss: 2.3014 - accuracy: 0.1124 - val_loss: 2.3010 - val_accuracy: 0.1135\n",
      "Epoch 8/10\n",
      "1875/1875 [==============================] - 3s 2ms/step - loss: 2.3013 - accuracy: 0.1124 - val_loss: 2.3010 - val_accuracy: 0.1135\n",
      "Epoch 9/10\n",
      "1875/1875 [==============================] - 6s 3ms/step - loss: 2.3014 - accuracy: 0.1124 - val_loss: 2.3011 - val_accuracy: 0.1135\n",
      "Epoch 10/10\n",
      "1875/1875 [==============================] - 11s 6ms/step - loss: 2.3013 - accuracy: 0.1124 - val_loss: 2.3010 - val_accuracy: 0.1135\n"
     ]
    },
    {
     "data": {
      "text/plain": [
       "<keras.callbacks.History at 0x224981e0970>"
      ]
     },
     "execution_count": 24,
     "metadata": {},
     "output_type": "execute_result"
    }
   ],
   "source": [
    "model_3.fit(X_train, y_train, epochs=10, batch_size=32, validation_data=(X_test, y_test))"
   ]
  },
  {
   "cell_type": "markdown",
   "metadata": {},
   "source": [
    "**Task 3.5**\n",
    "\n",
    "Evaluate the model using `model.evaluate()`."
   ]
  },
  {
   "cell_type": "code",
   "execution_count": 25,
   "metadata": {},
   "outputs": [
    {
     "name": "stdout",
     "output_type": "stream",
     "text": [
      "313/313 [==============================] - 2s 7ms/step - loss: 2.3010 - accuracy: 0.1135\n"
     ]
    },
    {
     "data": {
      "text/plain": [
       "[2.3010053634643555, 0.11349999904632568]"
      ]
     },
     "execution_count": 25,
     "metadata": {},
     "output_type": "execute_result"
    }
   ],
   "source": [
    "model_3.evaluate(X_test, y_test)"
   ]
  },
  {
   "cell_type": "markdown",
   "metadata": {},
   "source": [
    "**Bonus: Task 3.6**\n",
    "\n",
    "Find the worst prediction. If you struggle with this task, try it later."
   ]
  },
  {
   "cell_type": "code",
   "execution_count": 26,
   "metadata": {},
   "outputs": [],
   "source": [
    "# YOUR CODE HERE #"
   ]
  },
  {
   "cell_type": "markdown",
   "metadata": {},
   "source": [
    "## 4. Multi-label classification"
   ]
  },
  {
   "cell_type": "markdown",
   "metadata": {},
   "source": [
    "**The dataset**\n",
    "\n",
    "In this task you will use a simulated dataset.\n",
    "\n",
    "You are given 4 random integers ($x_1, x_2, x_3, x_4$) between -5 and 5 ($x_i \\in [-5, 5]$). Your task is to develop an MLP that predicts parity and sign of the product of these four numbers ($x_1 \\times x_2 \\times x_3 \\times x_4$).\n",
    "\n",
    "**Definitions**\n",
    "\n",
    "In mathematics, parity is the property of an integer of whether it is even or odd.\n",
    "\n",
    "In mathematics, the sign of a real number is its property of being either positive, negative, or zero.\n",
    "\n",
    "**Example**\n",
    "\n",
    "$x_1=-1, x_2=1, x_3=-3, x_4=-5$\n",
    "\n",
    "$ product = x_1 \\times x_2 \\times x_3 \\times x_4 = -15$\n",
    "\n",
    "parity of -15 is `odd` and sign of -15 is `negative`.\n",
    "\n",
    "**Columns**\n",
    "\n",
    "$x_i$: Integers between -5 (inclusive) and 5 (inclusive).\n",
    "\n",
    "Parity column: $x_1 \\times x_2 \\times x_3 \\times x_4$ is even (0) or odd (1).\n",
    "\n",
    "Sign column: $x_1 \\times x_2 \\times x_3 \\times x_4$ is negative (-1), or zero (0) or positive (1).\n",
    "\n",
    "|$x_1$|$x_2$|$x_3$|$x_4$|$Parity$|$Sign$|\n",
    "|:--|:--|:--|:--|:--|:--|\n",
    "|-2|-4|-1|1|0|-1|\n",
    "|-3|5|-3|3|1|1|\n",
    "|-4|-2|5|3|0|1|\n",
    "|-4|0|-5|0|0|0|\n",
    "|1|1|2|-4|0|-1|\n",
    "|-1|1|-3|-5|1|-1|\n"
   ]
  },
  {
   "cell_type": "code",
   "execution_count": 27,
   "metadata": {
    "code_folding": []
   },
   "outputs": [],
   "source": [
    "def simulator(n):\n",
    "    \n",
    "    # x_i numbers with shape (n, 4)\n",
    "    X = np.random.randint(-5, 6, size=(n, 4))\n",
    "\n",
    "    # product of 4 numbers for each row\n",
    "    # this will be used to calculate labels\n",
    "    # but this won't be part of the dataset\n",
    "    product = np.prod(X, axis=1)\n",
    "\n",
    "    # label 1\n",
    "    parity_col = product % 2\n",
    "    parity_col = parity_col.reshape(-1, 1)\n",
    "\n",
    "    # label 2\n",
    "    pos = (product > 0)*1\n",
    "    neg = (product < 0)*-1\n",
    "    zero = (product == 0)*0\n",
    "    sign_col = pos + neg + zero\n",
    "    sign_col = sign_col.reshape(-1, 1)\n",
    "\n",
    "    # concatenate columns to create the dataset\n",
    "    dataset = np.concatenate((X, parity_col, sign_col), axis=1)\n",
    "    \n",
    "    return dataset"
   ]
  },
  {
   "cell_type": "code",
   "execution_count": 28,
   "metadata": {},
   "outputs": [],
   "source": [
    "dataset = simulator(n=10000)"
   ]
  },
  {
   "cell_type": "code",
   "execution_count": 29,
   "metadata": {},
   "outputs": [
    {
     "data": {
      "text/html": [
       "<div>\n",
       "<style scoped>\n",
       "    .dataframe tbody tr th:only-of-type {\n",
       "        vertical-align: middle;\n",
       "    }\n",
       "\n",
       "    .dataframe tbody tr th {\n",
       "        vertical-align: top;\n",
       "    }\n",
       "\n",
       "    .dataframe thead th {\n",
       "        text-align: right;\n",
       "    }\n",
       "</style>\n",
       "<table border=\"1\" class=\"dataframe\">\n",
       "  <thead>\n",
       "    <tr style=\"text-align: right;\">\n",
       "      <th></th>\n",
       "      <th>x_1</th>\n",
       "      <th>x_2</th>\n",
       "      <th>x_3</th>\n",
       "      <th>x_4</th>\n",
       "      <th>Parity</th>\n",
       "      <th>Sign</th>\n",
       "    </tr>\n",
       "  </thead>\n",
       "  <tbody>\n",
       "    <tr>\n",
       "      <th>0</th>\n",
       "      <td>-4</td>\n",
       "      <td>-1</td>\n",
       "      <td>-5</td>\n",
       "      <td>4</td>\n",
       "      <td>0</td>\n",
       "      <td>-1</td>\n",
       "    </tr>\n",
       "    <tr>\n",
       "      <th>1</th>\n",
       "      <td>4</td>\n",
       "      <td>2</td>\n",
       "      <td>5</td>\n",
       "      <td>-4</td>\n",
       "      <td>0</td>\n",
       "      <td>-1</td>\n",
       "    </tr>\n",
       "    <tr>\n",
       "      <th>2</th>\n",
       "      <td>-1</td>\n",
       "      <td>-5</td>\n",
       "      <td>5</td>\n",
       "      <td>0</td>\n",
       "      <td>0</td>\n",
       "      <td>0</td>\n",
       "    </tr>\n",
       "    <tr>\n",
       "      <th>3</th>\n",
       "      <td>5</td>\n",
       "      <td>-4</td>\n",
       "      <td>-2</td>\n",
       "      <td>3</td>\n",
       "      <td>0</td>\n",
       "      <td>1</td>\n",
       "    </tr>\n",
       "    <tr>\n",
       "      <th>4</th>\n",
       "      <td>-2</td>\n",
       "      <td>3</td>\n",
       "      <td>-2</td>\n",
       "      <td>1</td>\n",
       "      <td>0</td>\n",
       "      <td>1</td>\n",
       "    </tr>\n",
       "    <tr>\n",
       "      <th>5</th>\n",
       "      <td>0</td>\n",
       "      <td>-1</td>\n",
       "      <td>-4</td>\n",
       "      <td>-2</td>\n",
       "      <td>0</td>\n",
       "      <td>0</td>\n",
       "    </tr>\n",
       "    <tr>\n",
       "      <th>6</th>\n",
       "      <td>0</td>\n",
       "      <td>1</td>\n",
       "      <td>5</td>\n",
       "      <td>3</td>\n",
       "      <td>0</td>\n",
       "      <td>0</td>\n",
       "    </tr>\n",
       "    <tr>\n",
       "      <th>7</th>\n",
       "      <td>5</td>\n",
       "      <td>5</td>\n",
       "      <td>1</td>\n",
       "      <td>1</td>\n",
       "      <td>1</td>\n",
       "      <td>1</td>\n",
       "    </tr>\n",
       "    <tr>\n",
       "      <th>8</th>\n",
       "      <td>0</td>\n",
       "      <td>-5</td>\n",
       "      <td>0</td>\n",
       "      <td>2</td>\n",
       "      <td>0</td>\n",
       "      <td>0</td>\n",
       "    </tr>\n",
       "    <tr>\n",
       "      <th>9</th>\n",
       "      <td>5</td>\n",
       "      <td>3</td>\n",
       "      <td>3</td>\n",
       "      <td>-5</td>\n",
       "      <td>1</td>\n",
       "      <td>-1</td>\n",
       "    </tr>\n",
       "  </tbody>\n",
       "</table>\n",
       "</div>"
      ],
      "text/plain": [
       "   x_1  x_2  x_3  x_4  Parity  Sign\n",
       "0   -4   -1   -5    4       0    -1\n",
       "1    4    2    5   -4       0    -1\n",
       "2   -1   -5    5    0       0     0\n",
       "3    5   -4   -2    3       0     1\n",
       "4   -2    3   -2    1       0     1\n",
       "5    0   -1   -4   -2       0     0\n",
       "6    0    1    5    3       0     0\n",
       "7    5    5    1    1       1     1\n",
       "8    0   -5    0    2       0     0\n",
       "9    5    3    3   -5       1    -1"
      ]
     },
     "execution_count": 29,
     "metadata": {},
     "output_type": "execute_result"
    }
   ],
   "source": [
    "df = pd.DataFrame(dataset, columns=['x_1', 'x_2', 'x_3', 'x_4', 'Parity', 'Sign'])\n",
    "df.head(10)"
   ]
  },
  {
   "cell_type": "markdown",
   "metadata": {},
   "source": [
    "**Task 4.1**\n",
    "\n",
    "Use the numpy array `dataset` to create `X` and `y`. Preprocess the data if needed."
   ]
  },
  {
   "cell_type": "code",
   "execution_count": 30,
   "metadata": {},
   "outputs": [
    {
     "data": {
      "text/plain": [
       "((10000, 4), (10000, 2))"
      ]
     },
     "execution_count": 30,
     "metadata": {},
     "output_type": "execute_result"
    }
   ],
   "source": [
    "X = dataset[:, 0:4]\n",
    "y = dataset[:, 4:6]\n",
    "\n",
    "X.shape, y.shape"
   ]
  },
  {
   "cell_type": "code",
   "execution_count": 31,
   "metadata": {},
   "outputs": [],
   "source": [
    "from sklearn.model_selection import train_test_split\n",
    "X_train, X_test, y_train, y_test = train_test_split(X,\n",
    "                                                    y,\n",
    "                                                    test_size=0.33,\n",
    "                                                    random_state=0)"
   ]
  },
  {
   "cell_type": "code",
   "execution_count": 32,
   "metadata": {},
   "outputs": [
    {
     "data": {
      "text/plain": [
       "((6700, 4), (6700, 2), (3300, 4), (3300, 2))"
      ]
     },
     "execution_count": 32,
     "metadata": {},
     "output_type": "execute_result"
    }
   ],
   "source": [
    "X_train.shape, y_train.shape, X_test.shape, y_test.shape"
   ]
  },
  {
   "cell_type": "markdown",
   "metadata": {},
   "source": [
    "**Task 4.2**\n",
    "\n",
    "Build a MLP suitable for this simulated dataset. Use a `Sequential()` model and `Dense` layers from Keras. Use suitable activation functions."
   ]
  },
  {
   "cell_type": "code",
   "execution_count": 33,
   "metadata": {},
   "outputs": [],
   "source": [
    "model_4 = Sequential()\n",
    "model_4.add(Dense(64, input_dim=4, activation='relu'))\n",
    "model_4.add(Dense(32, activation='relu'))\n",
    "model_4.add(Dense(2, activation='softmax'))"
   ]
  },
  {
   "cell_type": "markdown",
   "metadata": {},
   "source": [
    "**Task 4.3**\n",
    "\n",
    "Compile the model by selecting a suitable optimizer and a suitable loss function. Also include a metric or metrics."
   ]
  },
  {
   "cell_type": "code",
   "execution_count": 34,
   "metadata": {},
   "outputs": [],
   "source": [
    "model_4.compile(loss='categorical_crossentropy', optimizer='adam', metrics=['accuracy'])"
   ]
  },
  {
   "cell_type": "markdown",
   "metadata": {},
   "source": [
    "**Task 4.4**\n",
    "\n",
    "Train the model on X_train, y_train and use X_test, y_test as validation data. Pick a suitable number of epochs and batch size."
   ]
  },
  {
   "cell_type": "code",
   "execution_count": 35,
   "metadata": {},
   "outputs": [
    {
     "name": "stdout",
     "output_type": "stream",
     "text": [
      "Epoch 1/40\n",
      "210/210 [==============================] - 2s 8ms/step - loss: 0.0320 - accuracy: 0.5336 - val_loss: -0.0435 - val_accuracy: 0.5970\n",
      "Epoch 2/40\n",
      "210/210 [==============================] - 1s 6ms/step - loss: -0.0250 - accuracy: 0.5313 - val_loss: -0.1357 - val_accuracy: 0.6006\n",
      "Epoch 3/40\n",
      "210/210 [==============================] - 2s 7ms/step - loss: -0.0978 - accuracy: 0.5451 - val_loss: -0.1751 - val_accuracy: 0.5636\n",
      "Epoch 4/40\n",
      "210/210 [==============================] - 1s 7ms/step - loss: -0.1126 - accuracy: 0.5504 - val_loss: -0.2777 - val_accuracy: 0.6400\n",
      "Epoch 5/40\n",
      "210/210 [==============================] - 2s 8ms/step - loss: -0.1598 - accuracy: 0.5673 - val_loss: -0.3649 - val_accuracy: 0.6406\n",
      "Epoch 6/40\n",
      "210/210 [==============================] - 1s 6ms/step - loss: -0.3209 - accuracy: 0.6061 - val_loss: 0.0754 - val_accuracy: 0.4427\n",
      "Epoch 7/40\n",
      "210/210 [==============================] - 2s 7ms/step - loss: -0.5001 - accuracy: 0.6097 - val_loss: -0.9717 - val_accuracy: 0.7233\n",
      "Epoch 8/40\n",
      "210/210 [==============================] - 1s 6ms/step - loss: -0.4500 - accuracy: 0.5843 - val_loss: -0.4333 - val_accuracy: 0.6064\n",
      "Epoch 9/40\n",
      "210/210 [==============================] - 1s 7ms/step - loss: -0.3765 - accuracy: 0.5758 - val_loss: 0.6469 - val_accuracy: 0.3130\n",
      "Epoch 10/40\n",
      "210/210 [==============================] - 1s 7ms/step - loss: -0.4342 - accuracy: 0.5873 - val_loss: 0.1544 - val_accuracy: 0.4724\n",
      "Epoch 11/40\n",
      "210/210 [==============================] - 2s 8ms/step - loss: -0.2453 - accuracy: 0.5261 - val_loss: -1.4201 - val_accuracy: 0.7203\n",
      "Epoch 12/40\n",
      "210/210 [==============================] - 1s 6ms/step - loss: -0.0544 - accuracy: 0.5328 - val_loss: -0.2191 - val_accuracy: 0.5694\n",
      "Epoch 13/40\n",
      "210/210 [==============================] - 1s 7ms/step - loss: -0.0963 - accuracy: 0.5270 - val_loss: -3.0580 - val_accuracy: 0.7106\n",
      "Epoch 14/40\n",
      "210/210 [==============================] - 1s 6ms/step - loss: -0.2329 - accuracy: 0.5372 - val_loss: 0.6404 - val_accuracy: 0.3842\n",
      "Epoch 15/40\n",
      "210/210 [==============================] - 2s 8ms/step - loss: -4.3493e-04 - accuracy: 0.5403 - val_loss: 0.6436 - val_accuracy: 0.3524\n",
      "Epoch 16/40\n",
      "210/210 [==============================] - 1s 6ms/step - loss: -0.0316 - accuracy: 0.5376 - val_loss: -3.9337 - val_accuracy: 0.7085\n",
      "Epoch 17/40\n",
      "210/210 [==============================] - 1s 6ms/step - loss: -0.1857 - accuracy: 0.5336 - val_loss: -3.1174 - val_accuracy: 0.7176\n",
      "Epoch 18/40\n",
      "210/210 [==============================] - 1s 6ms/step - loss: -0.0159 - accuracy: 0.5284 - val_loss: 1.4408 - val_accuracy: 0.3033\n",
      "Epoch 19/40\n",
      "210/210 [==============================] - 1s 6ms/step - loss: -0.3089 - accuracy: 0.5439 - val_loss: 3.5240 - val_accuracy: 0.2985\n",
      "Epoch 20/40\n",
      "210/210 [==============================] - 1s 6ms/step - loss: -0.0611 - accuracy: 0.5372 - val_loss: -7.8728 - val_accuracy: 0.7061\n",
      "Epoch 21/40\n",
      "210/210 [==============================] - 1s 6ms/step - loss: -0.1420 - accuracy: 0.5349 - val_loss: 1.1354 - val_accuracy: 0.3852\n",
      "Epoch 22/40\n",
      "210/210 [==============================] - 1s 7ms/step - loss: -0.4327 - accuracy: 0.5334 - val_loss: 1.7429 - val_accuracy: 0.3203\n",
      "Epoch 23/40\n",
      "210/210 [==============================] - 1s 7ms/step - loss: -0.2426 - accuracy: 0.5400 - val_loss: 1.0974 - val_accuracy: 0.4330\n",
      "Epoch 24/40\n",
      "210/210 [==============================] - 2s 7ms/step - loss: 0.1054 - accuracy: 0.5331 - val_loss: 2.9367 - val_accuracy: 0.2927\n",
      "Epoch 25/40\n",
      "210/210 [==============================] - 2s 7ms/step - loss: 0.2135 - accuracy: 0.5278 - val_loss: -0.2971 - val_accuracy: 0.6036\n",
      "Epoch 26/40\n",
      "210/210 [==============================] - 1s 7ms/step - loss: -0.1718 - accuracy: 0.5378 - val_loss: -8.6575 - val_accuracy: 0.7118\n",
      "Epoch 27/40\n",
      "210/210 [==============================] - 1s 6ms/step - loss: -0.1242 - accuracy: 0.5403 - val_loss: 1.4762 - val_accuracy: 0.4064\n",
      "Epoch 28/40\n",
      "210/210 [==============================] - 1s 6ms/step - loss: -0.0138 - accuracy: 0.5409 - val_loss: -1.2373 - val_accuracy: 0.6542\n",
      "Epoch 29/40\n",
      "210/210 [==============================] - 1s 6ms/step - loss: 0.1502 - accuracy: 0.5345 - val_loss: -5.9603 - val_accuracy: 0.7224\n",
      "Epoch 30/40\n",
      "210/210 [==============================] - 2s 7ms/step - loss: 0.3337 - accuracy: 0.5346 - val_loss: 0.4865 - val_accuracy: 0.5464\n",
      "Epoch 31/40\n",
      "210/210 [==============================] - 1s 7ms/step - loss: -0.6329 - accuracy: 0.5437 - val_loss: -5.6647 - val_accuracy: 0.7239\n",
      "Epoch 32/40\n",
      "210/210 [==============================] - 1s 7ms/step - loss: -0.7164 - accuracy: 0.5491 - val_loss: -1.6590 - val_accuracy: 0.6706\n",
      "Epoch 33/40\n",
      "210/210 [==============================] - 1s 7ms/step - loss: -0.2664 - accuracy: 0.5422 - val_loss: 2.2396 - val_accuracy: 0.3764\n",
      "Epoch 34/40\n",
      "210/210 [==============================] - 1s 6ms/step - loss: -0.3846 - accuracy: 0.5375 - val_loss: 0.3364 - val_accuracy: 0.5730\n",
      "Epoch 35/40\n",
      "210/210 [==============================] - 1s 6ms/step - loss: -1.0451 - accuracy: 0.5375 - val_loss: -5.7556 - val_accuracy: 0.7279\n",
      "Epoch 36/40\n",
      "210/210 [==============================] - 2s 7ms/step - loss: -0.4079 - accuracy: 0.5493 - val_loss: 8.1903 - val_accuracy: 0.2985\n",
      "Epoch 37/40\n",
      "210/210 [==============================] - 1s 7ms/step - loss: -0.4391 - accuracy: 0.5503 - val_loss: 3.5892 - val_accuracy: 0.3209\n",
      "Epoch 38/40\n",
      "210/210 [==============================] - 2s 8ms/step - loss: -1.4901 - accuracy: 0.5490 - val_loss: 2.2081 - val_accuracy: 0.4500\n",
      "Epoch 39/40\n",
      "210/210 [==============================] - 1s 7ms/step - loss: -0.4129 - accuracy: 0.5434 - val_loss: 6.7918 - val_accuracy: 0.2985\n",
      "Epoch 40/40\n",
      "210/210 [==============================] - 1s 6ms/step - loss: -0.1142 - accuracy: 0.5436 - val_loss: 1.4045 - val_accuracy: 0.5242\n"
     ]
    }
   ],
   "source": [
    "history4 = model_4.fit(X_train, y_train, batch_size=32, epochs = 40, validation_data=(X_test, y_test))"
   ]
  },
  {
   "cell_type": "markdown",
   "metadata": {},
   "source": [
    "## 5. Creative Brief\n",
    "\n",
    "Now it is time to apply what you learned to your creative brief. Build, train and test an MLP model with Keras on your creative brief dataset."
   ]
  },
  {
   "attachments": {},
   "cell_type": "markdown",
   "metadata": {},
   "source": [
    "See creative brief notebook"
   ]
  }
 ],
 "metadata": {
  "kernelspec": {
   "display_name": "base",
   "language": "python",
   "name": "python3"
  },
  "language_info": {
   "codemirror_mode": {
    "name": "ipython",
    "version": 3
   },
   "file_extension": ".py",
   "mimetype": "text/x-python",
   "name": "python",
   "nbconvert_exporter": "python",
   "pygments_lexer": "ipython3",
   "version": "3.9.16"
  },
  "vscode": {
   "interpreter": {
    "hash": "df0198c0c923084a692d9dd8837021393278b07223290056eb4ec625bff0d58b"
   }
  }
 },
 "nbformat": 4,
 "nbformat_minor": 2
}
