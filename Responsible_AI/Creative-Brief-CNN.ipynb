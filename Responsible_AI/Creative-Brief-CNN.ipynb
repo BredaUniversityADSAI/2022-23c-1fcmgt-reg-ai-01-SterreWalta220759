{
 "cells": [
  {
   "cell_type": "code",
   "execution_count": 79,
   "id": "vietnamese-charm",
   "metadata": {},
   "outputs": [],
   "source": [
    "import numpy as np\n",
    "import matplotlib.pyplot as plt\n",
    "import pandas as pd\n",
    "\n",
    "from tensorflow import keras\n",
    "from tensorflow.keras import layers\n",
    "from sklearn.model_selection import train_test_split"
   ]
  },
  {
   "attachments": {},
   "cell_type": "markdown",
   "id": "cathedral-fifty",
   "metadata": {},
   "source": [
    "## 1) The Dataset"
   ]
  },
  {
   "cell_type": "code",
   "execution_count": 80,
   "id": "61643491",
   "metadata": {},
   "outputs": [
    {
     "name": "stderr",
     "output_type": "stream",
     "text": [
      "C:\\Users\\sterr\\AppData\\Local\\Temp\\ipykernel_23100\\1027397133.py:36: VisibleDeprecationWarning: Creating an ndarray from ragged nested sequences (which is a list-or-tuple of lists-or-tuples-or ndarrays with different lengths or shapes) is deprecated. If you meant to do this, you must specify 'dtype=object' when creating the ndarray.\n",
      "  x_train = np.array(X_train)\n"
     ]
    }
   ],
   "source": [
    "path = 'data/datasets-resized'\n",
    "\n",
    "#Loading images from folder\n",
    "import glob\n",
    "import cv2\n",
    "from skimage import io\n",
    "\n",
    "types = ['*.jpg', '*.jpeg']\n",
    "\n",
    "#Creating list X and Y\n",
    "X_train = []\n",
    "y_train = []\n",
    "\n",
    "# Iterate the folder with glob\n",
    "for fpath in glob.glob(path + '/*.jpg'): \n",
    "    # Opening images with OpenCV    \n",
    "    # Alternatives: PIL, Matplotlib    \n",
    "    im = cv2.imread(fpath, 0) \n",
    "    if 'glass' in fpath:\n",
    "        label = 0 \n",
    "    elif 'metal' in fpath:\n",
    "        label = 1\n",
    "    elif 'paper' in fpath:\n",
    "        label = 2 \n",
    "    elif 'plastic' in fpath:\n",
    "        label = 3\n",
    "    elif 'cardboard' in fpath:\n",
    "        label = 4\n",
    "        \n",
    "    #Put image array to X    \n",
    "    #Put label to y    \n",
    "    X_train.append(im)\n",
    "    y_train.append(label)\n",
    "        \n",
    "#Convert X and y to numpy array\n",
    "x_train = np.array(X_train)\n",
    "y_train = np.array(y_train)"
   ]
  },
  {
   "cell_type": "code",
   "execution_count": 81,
   "id": "8a8e02ac",
   "metadata": {},
   "outputs": [
    {
     "name": "stdout",
     "output_type": "stream",
     "text": [
      "[4 4 4 ... 3 3 3]\n"
     ]
    }
   ],
   "source": [
    "print(y_train)"
   ]
  },
  {
   "cell_type": "code",
   "execution_count": 82,
   "id": "1e42a086",
   "metadata": {},
   "outputs": [
    {
     "ename": "NameError",
     "evalue": "name 'Sequential' is not defined",
     "output_type": "error",
     "traceback": [
      "\u001b[1;31m---------------------------------------------------------------------------\u001b[0m",
      "\u001b[1;31mNameError\u001b[0m                                 Traceback (most recent call last)",
      "\u001b[1;32m~\\AppData\\Local\\Temp\\ipykernel_23100\\2759565585.py\u001b[0m in \u001b[0;36m<module>\u001b[1;34m\u001b[0m\n\u001b[1;32m----> 1\u001b[1;33m \u001b[0mmodel\u001b[0m \u001b[1;33m=\u001b[0m \u001b[0mSequential\u001b[0m\u001b[1;33m(\u001b[0m\u001b[1;33m)\u001b[0m\u001b[1;33m\u001b[0m\u001b[1;33m\u001b[0m\u001b[0m\n\u001b[0m\u001b[0;32m      2\u001b[0m \u001b[0mmodel\u001b[0m\u001b[1;33m.\u001b[0m\u001b[0mfit\u001b[0m\u001b[1;33m(\u001b[0m\u001b[0mx_train\u001b[0m\u001b[1;33m,\u001b[0m \u001b[0my_train\u001b[0m\u001b[1;33m,\u001b[0m \u001b[0mepochs\u001b[0m\u001b[1;33m=\u001b[0m\u001b[1;36m10\u001b[0m\u001b[1;33m,\u001b[0m \u001b[0mvalidation_data\u001b[0m\u001b[1;33m=\u001b[0m\u001b[1;33m(\u001b[0m\u001b[0mx_test\u001b[0m\u001b[1;33m,\u001b[0m \u001b[0my_test\u001b[0m\u001b[1;33m)\u001b[0m\u001b[1;33m)\u001b[0m\u001b[1;33m\u001b[0m\u001b[1;33m\u001b[0m\u001b[0m\n",
      "\u001b[1;31mNameError\u001b[0m: name 'Sequential' is not defined"
     ]
    }
   ],
   "source": [
    "model = Sequential()\n",
    "model.fit(x_train, y_train, epochs=10, validation_data=(x_test, y_test))"
   ]
  },
  {
   "cell_type": "markdown",
   "id": "defined-diesel",
   "metadata": {},
   "source": [
    "## 2) Baselines\n",
    "\n",
    "- Random guess accuracy?\n",
    "\n",
    "- Human-Level Performance accuracy?\n",
    "\n",
    "- Multilayer Perceptron accuracy?"
   ]
  },
  {
   "cell_type": "markdown",
   "id": "indonesian-myrtle",
   "metadata": {},
   "source": [
    "## 3) Preprocessing\n",
    "\n",
    "Explain all the preprocessing steps you did."
   ]
  },
  {
   "cell_type": "markdown",
   "id": "spiritual-madison",
   "metadata": {},
   "source": [
    "## 4) CNN architecture"
   ]
  },
  {
   "cell_type": "markdown",
   "id": "parallel-pulse",
   "metadata": {},
   "source": [
    "## 5) CNN training\n",
    "\n",
    "- Loss function\n",
    "\n",
    "- Optimizer (with its hyper-parameters)\n",
    "\n",
    "- Metrics\n",
    "\n",
    "- Learning curves"
   ]
  },
  {
   "cell_type": "markdown",
   "id": "stable-quilt",
   "metadata": {},
   "source": [
    "## 6) Model performance\n",
    "\n",
    "Metrics plots"
   ]
  },
  {
   "cell_type": "markdown",
   "id": "rapid-chocolate",
   "metadata": {},
   "source": [
    "## 7) Error analysis\n",
    "\n",
    "Top error interpretation"
   ]
  },
  {
   "cell_type": "code",
   "execution_count": null,
   "id": "corporate-carrier",
   "metadata": {},
   "outputs": [],
   "source": []
  }
 ],
 "metadata": {
  "kernelspec": {
   "display_name": "Python 3",
   "language": "python",
   "name": "python3"
  },
  "language_info": {
   "codemirror_mode": {
    "name": "ipython",
    "version": 3
   },
   "file_extension": ".py",
   "mimetype": "text/x-python",
   "name": "python",
   "nbconvert_exporter": "python",
   "pygments_lexer": "ipython3",
   "version": "3.9.16"
  }
 },
 "nbformat": 4,
 "nbformat_minor": 5
}
