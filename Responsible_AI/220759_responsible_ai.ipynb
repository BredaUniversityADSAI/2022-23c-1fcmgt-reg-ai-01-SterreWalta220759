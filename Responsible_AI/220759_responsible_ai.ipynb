{
 "cells": [
  {
   "attachments": {},
   "cell_type": "markdown",
   "metadata": {},
   "source": [
    "# Block C: Responsible AI \n",
    "\n",
    "For details regarding ILO 3.1 and the use-case, please refer to the Assessment rubric in Microsoft Teams, and the [DataLab: Responsible AI](https://adsai.buas.nl/Study%20Content/Responsible%20and%20Explainable%20AI/UseCases.html) GitHub page."
   ]
  },
  {
   "attachments": {},
   "cell_type": "markdown",
   "metadata": {},
   "source": [
    "\n",
    "## Use-case 1: Identifying, and describing bias"
   ]
  },
  {
   "attachments": {},
   "cell_type": "markdown",
   "metadata": {},
   "source": [
    "##### Define the concept of bias in relation to the Imsitu dataset, and a computer vision task."
   ]
  },
  {
   "attachments": {},
   "cell_type": "markdown",
   "metadata": {},
   "source": [
    "The systematic inaccuracy or unfairness that is introduced into the data or the algorithm used to carry out the task is referred to as bias in the context of the Imsitu dataset and a computer vision task. As a result, various groups or people may not be represented fairly or treated equally in the data or task outcomes. When certain preconceived conceptions, assumptions, or prejudices have an impact on how specific agents or entities are labeled in the Imsitu dataset, bias might result."
   ]
  },
  {
   "attachments": {},
   "cell_type": "markdown",
   "metadata": {},
   "source": [
    "##### List, and describe the type of bias that you identified in the Imsitu dataset."
   ]
  },
  {
   "attachments": {},
   "cell_type": "markdown",
   "metadata": {},
   "source": [
    "I discovered bias in the Imsitu dataset when I searched for the verb \"praying\" and categorized the agent. One agent was labeled as a \"woman,\" based on an accompanying picture of a hand praying. However, there is no clear indication that the hand belongs to a woman, as the presence of nail polish does not necessarily mean the individual is female, as both men and women can wear it."
   ]
  },
  {
   "attachments": {},
   "cell_type": "markdown",
   "metadata": {},
   "source": [
    "#### Discuss the possible ramification (e.g., harm) in terms of fairness of the identified bias instance: Why, and when, is this particular instance of bias undesirable? In other words, who might be disproportionally affected by this particular instance of bias, and when does this negative effect come into play?"
   ]
  },
  {
   "attachments": {},
   "cell_type": "markdown",
   "metadata": {},
   "source": [
    "The identified bias in the Imsitu dataset can harm fairness and lead to unequal treatment when used in computer vision tasks. The incorrect labeling of the agent as a \"woman\" based on the presence of nail polish reinforces gender stereotypes and can result in incorrect predictions by computer vision systems, causing harm to individuals who don't conform to these stereotypes. Addressing bias in datasets and algorithms is crucial to ensure fair and equitable outcomes."
   ]
  },
  {
   "attachments": {},
   "cell_type": "markdown",
   "metadata": {},
   "source": [
    "## Use-case 2: Propose individual fairness method"
   ]
  },
  {
   "attachments": {},
   "cell_type": "markdown",
   "metadata": {},
   "source": [
    "#### Identify a sensitive/protected attribute in the Imsitu dataset."
   ]
  },
  {
   "attachments": {},
   "cell_type": "markdown",
   "metadata": {},
   "source": [
    "Religion (praying)"
   ]
  },
  {
   "attachments": {},
   "cell_type": "markdown",
   "metadata": {},
   "source": [
    "#### Mitigate bias in the Imsitu dataset by applying the ‘Fairness Through Unawareness' or ‘Fairness Through Awareness' method to this sensitive/protected attribute."
   ]
  },
  {
   "attachments": {},
   "cell_type": "markdown",
   "metadata": {},
   "source": [
    "The \"Fairness Through Awareness\" strategy entails including the sensitive/protected characteristic in the model and making sure that the model is trained to make fair decisions, independent of this feature. Different religious beliefs often have unique practices and rituals, including the way they offer prayers. By incorporating these distinct religious practices into a system or organization, the types of prayers can be made more distinguishable. Furthermore, by recognizing and acknowledging the diversity of religious beliefs, it reduces the risk of offense caused by grouping certain images or symbols together."
   ]
  },
  {
   "attachments": {},
   "cell_type": "markdown",
   "metadata": {},
   "source": [
    "#### Elaborate on the individual fairness method that you applied, and why you think it is a good method to mitigate bias in the Imsitu dataset."
   ]
  },
  {
   "attachments": {},
   "cell_type": "markdown",
   "metadata": {},
   "source": [
    "I explained this in the previous question."
   ]
  },
  {
   "attachments": {},
   "cell_type": "markdown",
   "metadata": {},
   "source": [
    "## Use-case 3: Create a subset of images from the original dataset"
   ]
  },
  {
   "attachments": {},
   "cell_type": "markdown",
   "metadata": {},
   "source": [
    "### Create a set that contains images from the selected classes."
   ]
  },
  {
   "cell_type": "code",
   "execution_count": 1,
   "metadata": {},
   "outputs": [
    {
     "data": {
      "text/plain": [
       "(['stapling_141.jpg',\n",
       "  'stapling_199.jpg',\n",
       "  'stapling_70.jpg',\n",
       "  'stapling_138.jpg',\n",
       "  'stapling_75.jpg'],\n",
       " ['stapling', 'stapling', 'stapling', 'stapling', 'stapling'],\n",
       " ['item', 'item', 'item', 'item', 'item'],\n",
       " ['n14799601', 'n14799601', 'n14799601', 'n14799601', 'n14799601'],\n",
       " 5)"
      ]
     },
     "execution_count": 1,
     "metadata": {},
     "output_type": "execute_result"
    }
   ],
   "source": [
    "import json\n",
    "\n",
    "def get_verb_agent(json_file, verb_custom, agent_custom):\n",
    "    train = json.load(open(json_file))\n",
    "    verb_value = []\n",
    "    agent_key = []\n",
    "    agent_value = []\n",
    "    file_path = []\n",
    "    count = 0\n",
    "    for i in train:\n",
    "        verb = train[i]['verb']\n",
    "        if verb == verb_custom:\n",
    "            frames = train[i]['frames']\n",
    "            for frame in frames:\n",
    "                for key, value in frame.items():\n",
    "                    if key == 'item':\n",
    "                        if value in agent_custom:\n",
    "                            if i not in file_path:\n",
    "                                agent_key.append(key)\n",
    "                                agent_value.append(value)\n",
    "                                file_path.append(i)\n",
    "                                verb_value.append(verb)\n",
    "                                count += 1\n",
    "                        else:\n",
    "                            continue\n",
    "                    else:\n",
    "                        continue\n",
    "    return(file_path, verb_value, agent_key, agent_value, count)\n",
    "\n",
    "get_verb_agent('data/train.json', 'stapling', ['n14799601'])"
   ]
  },
  {
   "cell_type": "code",
   "execution_count": 2,
   "metadata": {},
   "outputs": [
    {
     "name": "stdout",
     "output_type": "stream",
     "text": [
      "cardboard found\n",
      "n14799601\n"
     ]
    }
   ],
   "source": [
    "import json\n",
    "\n",
    "# load imsitu_space.json file\n",
    "imsitu_space = json.load(open(\"data/imsitu_space.json\"))\n",
    "\n",
    "nouns = imsitu_space[\"nouns\"]\n",
    "verbs = imsitu_space[\"verbs\"]\n",
    "\n",
    "# function to get all agent codes for a specific agent/noun\n",
    "def get_agent_codes(agent = \"person\"):\n",
    "    for noun in nouns:\n",
    "        if nouns[noun]['gloss'][0] == agent:\n",
    "            print(f\"{agent} found\")\n",
    "            print(noun)\n",
    "\n",
    "# get all agent codes for men (use your own nouns here)\n",
    "get_agent_codes(\"cardboard\")"
   ]
  },
  {
   "cell_type": "code",
   "execution_count": null,
   "metadata": {},
   "outputs": [],
   "source": [
    "import shutil\n",
    "\n",
    "def img_to_folder(dirs_original, dirs_destination):\n",
    "    image_list = get_verb_agent('data/train.json', 'stapling', ['n14799601'])[0]\n",
    "    dirs_list = [(dirs_original, dirs_destination)]\n",
    "    for img in image_list:\n",
    "        for source_folder, destination_folder in dirs_list:\n",
    "            shutil.copy(source_folder+img, destination_folder+img)\n",
    "\n",
    "img_to_folder(\"data/datasets-resized/\", \"data/datasets-resized/\")"
   ]
  },
  {
   "attachments": {},
   "cell_type": "markdown",
   "metadata": {},
   "source": [
    "For the training, test and validation set: see the creative brief notebook"
   ]
  },
  {
   "attachments": {},
   "cell_type": "markdown",
   "metadata": {},
   "source": [
    "## Use-case 4: Write Python functions; group fairness metrics"
   ]
  },
  {
   "attachments": {},
   "cell_type": "markdown",
   "metadata": {},
   "source": [
    "## Use-case 5: Write Python function; group fairness taxonomy"
   ]
  },
  {
   "attachments": {},
   "cell_type": "markdown",
   "metadata": {},
   "source": [
    "Write your text for use-case 5 here"
   ]
  },
  {
   "cell_type": "code",
   "execution_count": null,
   "metadata": {},
   "outputs": [],
   "source": [
    "#Write your Python code for use-case 5 here"
   ]
  },
  {
   "attachments": {},
   "cell_type": "markdown",
   "metadata": {},
   "source": [
    "## Use-case 6: Apply one/multiple explainable AI method(s) to the image classifier"
   ]
  },
  {
   "attachments": {},
   "cell_type": "markdown",
   "metadata": {},
   "source": [
    "Write your text for use-case 6 here"
   ]
  },
  {
   "cell_type": "code",
   "execution_count": null,
   "metadata": {},
   "outputs": [],
   "source": [
    "#Write your Python code for use-case 6 here"
   ]
  }
 ],
 "metadata": {
  "kernelspec": {
   "display_name": "base",
   "language": "python",
   "name": "python3"
  },
  "language_info": {
   "codemirror_mode": {
    "name": "ipython",
    "version": 3
   },
   "file_extension": ".py",
   "mimetype": "text/x-python",
   "name": "python",
   "nbconvert_exporter": "python",
   "pygments_lexer": "ipython3",
   "version": "3.9.16"
  },
  "orig_nbformat": 4,
  "vscode": {
   "interpreter": {
    "hash": "df0198c0c923084a692d9dd8837021393278b07223290056eb4ec625bff0d58b"
   }
  }
 },
 "nbformat": 4,
 "nbformat_minor": 2
}
